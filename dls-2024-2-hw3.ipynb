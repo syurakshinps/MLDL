{
 "cells": [
  {
   "cell_type": "markdown",
   "id": "c98a62fa",
   "metadata": {
    "id": "d0ADTojbpfLt",
    "papermill": {
     "duration": 0.01424,
     "end_time": "2024-03-19T09:29:48.247836",
     "exception": false,
     "start_time": "2024-03-19T09:29:48.233596",
     "status": "completed"
    },
    "tags": []
   },
   "source": [
    "<p style=\"align: center;\"><img src=\"https://static.tildacdn.com/tild6636-3531-4239-b465-376364646465/Deep_Learning_School.png\" width=\"400\"></p>\n",
    "\n",
    "# Домашнее задание. Обучение языковой модели с помощью LSTM (10 баллов)"
   ]
  },
  {
   "cell_type": "markdown",
   "id": "78eda68b",
   "metadata": {
    "id": "ldHSmYY6p_mZ",
    "papermill": {
     "duration": 0.013412,
     "end_time": "2024-03-19T09:29:48.274888",
     "exception": false,
     "start_time": "2024-03-19T09:29:48.261476",
     "status": "completed"
    },
    "tags": []
   },
   "source": [
    "Э\n",
    "В этом задании Вам предстоит обучить языковую модель с помощью рекуррентной нейронной сети. В отличие от семинарского занятия, Вам необходимо будет работать с отдельными словами, а не буквами.\n",
    "\n",
    "\n",
    "Установим модуль ```datasets```, чтобы нам проще было работать с данными."
   ]
  },
  {
   "cell_type": "code",
   "execution_count": 1,
   "id": "02542bc9",
   "metadata": {
    "execution": {
     "iopub.execute_input": "2024-03-19T09:29:48.303837Z",
     "iopub.status.busy": "2024-03-19T09:29:48.303515Z",
     "iopub.status.idle": "2024-03-19T09:30:01.566693Z",
     "shell.execute_reply": "2024-03-19T09:30:01.565769Z"
    },
    "id": "3yvNdv6cp_0P",
    "papermill": {
     "duration": 13.280743,
     "end_time": "2024-03-19T09:30:01.569136",
     "exception": false,
     "start_time": "2024-03-19T09:29:48.288393",
     "status": "completed"
    },
    "tags": []
   },
   "outputs": [
    {
     "name": "stdout",
     "output_type": "stream",
     "text": [
      "Requirement already satisfied: datasets in /opt/conda/lib/python3.10/site-packages (2.1.0)\r\n",
      "Requirement already satisfied: numpy>=1.17 in /opt/conda/lib/python3.10/site-packages (from datasets) (1.26.4)\r\n",
      "Requirement already satisfied: pyarrow>=5.0.0 in /opt/conda/lib/python3.10/site-packages (from datasets) (11.0.0)\r\n",
      "Requirement already satisfied: dill in /opt/conda/lib/python3.10/site-packages (from datasets) (0.3.8)\r\n",
      "Requirement already satisfied: pandas in /opt/conda/lib/python3.10/site-packages (from datasets) (2.1.4)\r\n",
      "Requirement already satisfied: requests>=2.19.0 in /opt/conda/lib/python3.10/site-packages (from datasets) (2.31.0)\r\n",
      "Requirement already satisfied: tqdm>=4.62.1 in /opt/conda/lib/python3.10/site-packages (from datasets) (4.66.1)\r\n",
      "Requirement already satisfied: xxhash in /opt/conda/lib/python3.10/site-packages (from datasets) (3.4.1)\r\n",
      "Requirement already satisfied: multiprocess in /opt/conda/lib/python3.10/site-packages (from datasets) (0.70.16)\r\n",
      "Requirement already satisfied: fsspec>=2021.05.0 in /opt/conda/lib/python3.10/site-packages (from fsspec[http]>=2021.05.0->datasets) (2024.2.0)\r\n",
      "Requirement already satisfied: aiohttp in /opt/conda/lib/python3.10/site-packages (from datasets) (3.9.1)\r\n",
      "Requirement already satisfied: huggingface-hub<1.0.0,>=0.1.0 in /opt/conda/lib/python3.10/site-packages (from datasets) (0.20.3)\r\n",
      "Requirement already satisfied: packaging in /opt/conda/lib/python3.10/site-packages (from datasets) (21.3)\r\n",
      "Requirement already satisfied: responses<0.19 in /opt/conda/lib/python3.10/site-packages (from datasets) (0.18.0)\r\n",
      "Requirement already satisfied: attrs>=17.3.0 in /opt/conda/lib/python3.10/site-packages (from aiohttp->datasets) (23.2.0)\r\n",
      "Requirement already satisfied: multidict<7.0,>=4.5 in /opt/conda/lib/python3.10/site-packages (from aiohttp->datasets) (6.0.4)\r\n",
      "Requirement already satisfied: yarl<2.0,>=1.0 in /opt/conda/lib/python3.10/site-packages (from aiohttp->datasets) (1.9.3)\r\n",
      "Requirement already satisfied: frozenlist>=1.1.1 in /opt/conda/lib/python3.10/site-packages (from aiohttp->datasets) (1.4.1)\r\n",
      "Requirement already satisfied: aiosignal>=1.1.2 in /opt/conda/lib/python3.10/site-packages (from aiohttp->datasets) (1.3.1)\r\n",
      "Requirement already satisfied: async-timeout<5.0,>=4.0 in /opt/conda/lib/python3.10/site-packages (from aiohttp->datasets) (4.0.3)\r\n",
      "Requirement already satisfied: filelock in /opt/conda/lib/python3.10/site-packages (from huggingface-hub<1.0.0,>=0.1.0->datasets) (3.13.1)\r\n",
      "Requirement already satisfied: pyyaml>=5.1 in /opt/conda/lib/python3.10/site-packages (from huggingface-hub<1.0.0,>=0.1.0->datasets) (6.0.1)\r\n",
      "Requirement already satisfied: typing-extensions>=3.7.4.3 in /opt/conda/lib/python3.10/site-packages (from huggingface-hub<1.0.0,>=0.1.0->datasets) (4.9.0)\r\n",
      "Requirement already satisfied: pyparsing!=3.0.5,>=2.0.2 in /opt/conda/lib/python3.10/site-packages (from packaging->datasets) (3.1.1)\r\n",
      "Requirement already satisfied: charset-normalizer<4,>=2 in /opt/conda/lib/python3.10/site-packages (from requests>=2.19.0->datasets) (3.3.2)\r\n",
      "Requirement already satisfied: idna<4,>=2.5 in /opt/conda/lib/python3.10/site-packages (from requests>=2.19.0->datasets) (3.6)\r\n",
      "Requirement already satisfied: urllib3<3,>=1.21.1 in /opt/conda/lib/python3.10/site-packages (from requests>=2.19.0->datasets) (1.26.18)\r\n",
      "Requirement already satisfied: certifi>=2017.4.17 in /opt/conda/lib/python3.10/site-packages (from requests>=2.19.0->datasets) (2024.2.2)\r\n",
      "Requirement already satisfied: python-dateutil>=2.8.2 in /opt/conda/lib/python3.10/site-packages (from pandas->datasets) (2.8.2)\r\n",
      "Requirement already satisfied: pytz>=2020.1 in /opt/conda/lib/python3.10/site-packages (from pandas->datasets) (2023.3.post1)\r\n",
      "Requirement already satisfied: tzdata>=2022.1 in /opt/conda/lib/python3.10/site-packages (from pandas->datasets) (2023.4)\r\n",
      "Requirement already satisfied: six>=1.5 in /opt/conda/lib/python3.10/site-packages (from python-dateutil>=2.8.2->pandas->datasets) (1.16.0)\r\n"
     ]
    }
   ],
   "source": [
    "!pip install datasets"
   ]
  },
  {
   "cell_type": "markdown",
   "id": "75a35e9c",
   "metadata": {
    "id": "rh9ZXSeCpng9",
    "papermill": {
     "duration": 0.014082,
     "end_time": "2024-03-19T09:30:01.597941",
     "exception": false,
     "start_time": "2024-03-19T09:30:01.583859",
     "status": "completed"
    },
    "tags": []
   },
   "source": [
    "Импорт необходимых библиотек"
   ]
  },
  {
   "cell_type": "code",
   "execution_count": 2,
   "id": "7b73bd27",
   "metadata": {
    "execution": {
     "iopub.execute_input": "2024-03-19T09:30:01.627788Z",
     "iopub.status.busy": "2024-03-19T09:30:01.627438Z",
     "iopub.status.idle": "2024-03-19T09:30:08.735687Z",
     "shell.execute_reply": "2024-03-19T09:30:08.734563Z"
    },
    "id": "XOJi16bLpd_O",
    "papermill": {
     "duration": 7.125533,
     "end_time": "2024-03-19T09:30:08.737713",
     "exception": false,
     "start_time": "2024-03-19T09:30:01.612180",
     "status": "completed"
    },
    "tags": []
   },
   "outputs": [
    {
     "name": "stdout",
     "output_type": "stream",
     "text": [
      "done all\n"
     ]
    }
   ],
   "source": [
    "import torch\n",
    "import torch.nn as nn\n",
    "from torch.utils.data import Dataset, DataLoader\n",
    "\n",
    "import numpy as np\n",
    "import matplotlib.pyplot as plt\n",
    "\n",
    "from tqdm.auto import tqdm\n",
    "from datasets import load_dataset\n",
    "from nltk.tokenize import sent_tokenize, word_tokenize\n",
    "from sklearn.model_selection import train_test_split\n",
    "import nltk\n",
    "\n",
    "from collections import Counter\n",
    "from typing import List\n",
    "\n",
    "import seaborn\n",
    "seaborn.set(palette='summer')\n",
    "\n",
    "print(\"done all\")"
   ]
  },
  {
   "cell_type": "code",
   "execution_count": 3,
   "id": "8b7bbea5",
   "metadata": {
    "execution": {
     "iopub.execute_input": "2024-03-19T09:30:08.768028Z",
     "iopub.status.busy": "2024-03-19T09:30:08.767567Z",
     "iopub.status.idle": "2024-03-19T09:30:09.061397Z",
     "shell.execute_reply": "2024-03-19T09:30:09.060494Z"
    },
    "id": "91JuM0SQvXud",
    "papermill": {
     "duration": 0.310877,
     "end_time": "2024-03-19T09:30:09.063374",
     "exception": false,
     "start_time": "2024-03-19T09:30:08.752497",
     "status": "completed"
    },
    "tags": []
   },
   "outputs": [
    {
     "name": "stdout",
     "output_type": "stream",
     "text": [
      "[nltk_data] Downloading package punkt to /usr/share/nltk_data...\n",
      "[nltk_data]   Package punkt is already up-to-date!\n"
     ]
    },
    {
     "data": {
      "text/plain": [
       "True"
      ]
     },
     "execution_count": 3,
     "metadata": {},
     "output_type": "execute_result"
    }
   ],
   "source": [
    "nltk.download('punkt')"
   ]
  },
  {
   "cell_type": "code",
   "execution_count": 4,
   "id": "6285a841",
   "metadata": {
    "execution": {
     "iopub.execute_input": "2024-03-19T09:30:09.093389Z",
     "iopub.status.busy": "2024-03-19T09:30:09.093131Z",
     "iopub.status.idle": "2024-03-19T09:30:09.142492Z",
     "shell.execute_reply": "2024-03-19T09:30:09.141725Z"
    },
    "id": "adJC8ShFq9HM",
    "papermill": {
     "duration": 0.066455,
     "end_time": "2024-03-19T09:30:09.144409",
     "exception": false,
     "start_time": "2024-03-19T09:30:09.077954",
     "status": "completed"
    },
    "tags": []
   },
   "outputs": [
    {
     "data": {
      "text/plain": [
       "'cuda'"
      ]
     },
     "execution_count": 4,
     "metadata": {},
     "output_type": "execute_result"
    }
   ],
   "source": [
    "device = 'cuda' if torch.cuda.is_available() else 'cpu'\n",
    "device"
   ]
  },
  {
   "cell_type": "markdown",
   "id": "5a70bb22",
   "metadata": {
    "id": "pwsfS1ENq5ig",
    "papermill": {
     "duration": 0.014236,
     "end_time": "2024-03-19T09:30:09.173316",
     "exception": false,
     "start_time": "2024-03-19T09:30:09.159080",
     "status": "completed"
    },
    "tags": []
   },
   "source": [
    "## Подготовка данных\n",
    "\n",
    "Воспользуемся датасетом imdb. В нем хранятся отзывы о фильмах с сайта imdb. Загрузим данные с помощью функции ```load_dataset```"
   ]
  },
  {
   "cell_type": "code",
   "execution_count": 5,
   "id": "ec230eec",
   "metadata": {
    "execution": {
     "iopub.execute_input": "2024-03-19T09:30:09.204055Z",
     "iopub.status.busy": "2024-03-19T09:30:09.203702Z",
     "iopub.status.idle": "2024-03-19T09:30:57.293846Z",
     "shell.execute_reply": "2024-03-19T09:30:57.292673Z"
    },
    "id": "qHLNWOfJqSfc",
    "papermill": {
     "duration": 48.108461,
     "end_time": "2024-03-19T09:30:57.296709",
     "exception": false,
     "start_time": "2024-03-19T09:30:09.188248",
     "status": "completed"
    },
    "tags": []
   },
   "outputs": [
    {
     "data": {
      "application/vnd.jupyter.widget-view+json": {
       "model_id": "e007b5cea52c4919b4a6dea994b184ed",
       "version_major": 2,
       "version_minor": 0
      },
      "text/plain": [
       "Downloading builder script:   0%|          | 0.00/1.79k [00:00<?, ?B/s]"
      ]
     },
     "metadata": {},
     "output_type": "display_data"
    },
    {
     "data": {
      "application/vnd.jupyter.widget-view+json": {
       "model_id": "78d23df9630a44b382e0655093dab232",
       "version_major": 2,
       "version_minor": 0
      },
      "text/plain": [
       "Downloading metadata:   0%|          | 0.00/1.05k [00:00<?, ?B/s]"
      ]
     },
     "metadata": {},
     "output_type": "display_data"
    },
    {
     "name": "stdout",
     "output_type": "stream",
     "text": [
      "Downloading and preparing dataset imdb/plain_text (download: 80.23 MiB, generated: 127.02 MiB, post-processed: Unknown size, total: 207.25 MiB) to /root/.cache/huggingface/datasets/imdb/plain_text/1.0.0/2fdd8b9bcadd6e7055e742a706876ba43f19faee861df134affd7a3f60fc38a1...\n"
     ]
    },
    {
     "data": {
      "application/vnd.jupyter.widget-view+json": {
       "model_id": "1ceb6e2a58b44386847d6c064161981f",
       "version_major": 2,
       "version_minor": 0
      },
      "text/plain": [
       "Downloading data:   0%|          | 0.00/84.1M [00:00<?, ?B/s]"
      ]
     },
     "metadata": {},
     "output_type": "display_data"
    },
    {
     "data": {
      "application/vnd.jupyter.widget-view+json": {
       "model_id": "7545776f63d148bdb0c1e359217609e0",
       "version_major": 2,
       "version_minor": 0
      },
      "text/plain": [
       "Generating train split:   0%|          | 0/25000 [00:00<?, ? examples/s]"
      ]
     },
     "metadata": {},
     "output_type": "display_data"
    },
    {
     "data": {
      "application/vnd.jupyter.widget-view+json": {
       "model_id": "58044c8897cd4f5684b3b816feaa4f23",
       "version_major": 2,
       "version_minor": 0
      },
      "text/plain": [
       "Generating test split:   0%|          | 0/25000 [00:00<?, ? examples/s]"
      ]
     },
     "metadata": {},
     "output_type": "display_data"
    },
    {
     "data": {
      "application/vnd.jupyter.widget-view+json": {
       "model_id": "b72dfbb76c474acfb9f4b61efe1a3b26",
       "version_major": 2,
       "version_minor": 0
      },
      "text/plain": [
       "Generating unsupervised split:   0%|          | 0/50000 [00:00<?, ? examples/s]"
      ]
     },
     "metadata": {},
     "output_type": "display_data"
    },
    {
     "name": "stdout",
     "output_type": "stream",
     "text": [
      "Dataset imdb downloaded and prepared to /root/.cache/huggingface/datasets/imdb/plain_text/1.0.0/2fdd8b9bcadd6e7055e742a706876ba43f19faee861df134affd7a3f60fc38a1. Subsequent calls will reuse this data.\n"
     ]
    },
    {
     "data": {
      "application/vnd.jupyter.widget-view+json": {
       "model_id": "39540088906d40a1a933e6aba09a3136",
       "version_major": 2,
       "version_minor": 0
      },
      "text/plain": [
       "  0%|          | 0/3 [00:00<?, ?it/s]"
      ]
     },
     "metadata": {},
     "output_type": "display_data"
    }
   ],
   "source": [
    "# Загрузим датасет\n",
    "dataset = load_dataset('imdb')"
   ]
  },
  {
   "cell_type": "code",
   "execution_count": 6,
   "id": "92cda65f",
   "metadata": {
    "execution": {
     "iopub.execute_input": "2024-03-19T09:30:57.333432Z",
     "iopub.status.busy": "2024-03-19T09:30:57.332649Z",
     "iopub.status.idle": "2024-03-19T09:30:57.338110Z",
     "shell.execute_reply": "2024-03-19T09:30:57.337124Z"
    },
    "papermill": {
     "duration": 0.024214,
     "end_time": "2024-03-19T09:30:57.339936",
     "exception": false,
     "start_time": "2024-03-19T09:30:57.315722",
     "status": "completed"
    },
    "tags": []
   },
   "outputs": [
    {
     "name": "stdout",
     "output_type": "stream",
     "text": [
      "done all\n"
     ]
    }
   ],
   "source": [
    "from nltk import tokenize\n",
    "\n",
    "print(\"done all\")"
   ]
  },
  {
   "cell_type": "code",
   "execution_count": 7,
   "id": "5c775853",
   "metadata": {
    "execution": {
     "iopub.execute_input": "2024-03-19T09:30:57.372852Z",
     "iopub.status.busy": "2024-03-19T09:30:57.372550Z",
     "iopub.status.idle": "2024-03-19T09:30:57.377455Z",
     "shell.execute_reply": "2024-03-19T09:30:57.376467Z"
    },
    "papermill": {
     "duration": 0.023855,
     "end_time": "2024-03-19T09:30:57.379645",
     "exception": false,
     "start_time": "2024-03-19T09:30:57.355790",
     "status": "completed"
    },
    "tags": []
   },
   "outputs": [
    {
     "name": "stdout",
     "output_type": "stream",
     "text": [
      "DatasetDict({\n",
      "    train: Dataset({\n",
      "        features: ['text', 'label'],\n",
      "        num_rows: 25000\n",
      "    })\n",
      "    test: Dataset({\n",
      "        features: ['text', 'label'],\n",
      "        num_rows: 25000\n",
      "    })\n",
      "    unsupervised: Dataset({\n",
      "        features: ['text', 'label'],\n",
      "        num_rows: 50000\n",
      "    })\n",
      "})\n"
     ]
    }
   ],
   "source": [
    "print(dataset)"
   ]
  },
  {
   "cell_type": "code",
   "execution_count": 8,
   "id": "a84a4bc8",
   "metadata": {
    "execution": {
     "iopub.execute_input": "2024-03-19T09:30:57.413029Z",
     "iopub.status.busy": "2024-03-19T09:30:57.412728Z",
     "iopub.status.idle": "2024-03-19T09:30:58.801663Z",
     "shell.execute_reply": "2024-03-19T09:30:58.800584Z"
    },
    "papermill": {
     "duration": 1.408009,
     "end_time": "2024-03-19T09:30:58.803737",
     "exception": false,
     "start_time": "2024-03-19T09:30:57.395728",
     "status": "completed"
    },
    "tags": []
   },
   "outputs": [
    {
     "name": "stdout",
     "output_type": "stream",
     "text": [
      "{0, 1}\n"
     ]
    }
   ],
   "source": [
    "# посмотрим, что там есть\n",
    "unique_labels = set([example['label'] for example in dataset['train']])\n",
    "print(unique_labels)\n"
   ]
  },
  {
   "cell_type": "code",
   "execution_count": 9,
   "id": "a3991861",
   "metadata": {
    "execution": {
     "iopub.execute_input": "2024-03-19T09:30:58.838417Z",
     "iopub.status.busy": "2024-03-19T09:30:58.838129Z",
     "iopub.status.idle": "2024-03-19T09:31:01.553545Z",
     "shell.execute_reply": "2024-03-19T09:31:01.552683Z"
    },
    "papermill": {
     "duration": 2.73454,
     "end_time": "2024-03-19T09:31:01.555627",
     "exception": false,
     "start_time": "2024-03-19T09:30:58.821087",
     "status": "completed"
    },
    "tags": []
   },
   "outputs": [
    {
     "name": "stdout",
     "output_type": "stream",
     "text": [
      "12500\n",
      "12500\n",
      "25000\n"
     ]
    }
   ],
   "source": [
    "# сколько каких категорий\n",
    "number_of_negatives = sum(1 for example in dataset['train'] if example['label'] == 0)\n",
    "print(number_of_negatives)\n",
    "number_of_positives = sum(1 for example in dataset['train'] if example['label'] == 1)\n",
    "print(number_of_positives)\n",
    "total_number = len(dataset['train'])\n",
    "print(total_number)\n"
   ]
  },
  {
   "cell_type": "code",
   "execution_count": 10,
   "id": "6f79f8a0",
   "metadata": {
    "execution": {
     "iopub.execute_input": "2024-03-19T09:31:01.589646Z",
     "iopub.status.busy": "2024-03-19T09:31:01.589341Z",
     "iopub.status.idle": "2024-03-19T09:31:02.931558Z",
     "shell.execute_reply": "2024-03-19T09:31:02.930799Z"
    },
    "papermill": {
     "duration": 1.361572,
     "end_time": "2024-03-19T09:31:02.933767",
     "exception": false,
     "start_time": "2024-03-19T09:31:01.572195",
     "status": "completed"
    },
    "tags": []
   },
   "outputs": [
    {
     "name": "stdout",
     "output_type": "stream",
     "text": [
      "I rented I AM CURIOUS-YELLOW from my video store because of all the controversy that surrounded it when it was first released in 1967. I also heard that at first it was seized by U.S. customs if it ever tried to enter this country, therefore being a fan of films considered \"controversial\" I really had to see this for myself.<br /><br />The plot is centered around a young Swedish drama student named Lena who wants to learn everything she can about life. In particular she wants to focus her attentions to making some sort of documentary on what the average Swede thought about certain political issues such as the Vietnam War and race issues in the United States. In between asking politicians and ordinary denizens of Stockholm about their opinions on politics, she has sex with her drama teacher, classmates, and married men.<br /><br />What kills me about I AM CURIOUS-YELLOW is that 40 years ago, this was considered pornographic. Really, the sex and nudity scenes are few and far between, even then it's not shot like some cheaply made porno. While my countrymen mind find it shocking, in reality sex and nudity are a major staple in Swedish cinema. Even Ingmar Bergman, arguably their answer to good old boy John Ford, had sex scenes in his films.<br /><br />I do commend the filmmakers for the fact that any sex shown in the film is shown for artistic purposes rather than just to shock people and make money to be shown in pornographic theaters in America. I AM CURIOUS-YELLOW is a good film for anyone wanting to study the meat and potatoes (no pun intended) of Swedish cinema. But really, this film doesn't have much of a plot.\n",
      "0\n",
      "\"I Am Curious: Yellow\" is a risible and pretentious steaming pile. It doesn't matter what one's political views are because this film can hardly be taken seriously on any level. As for the claim that frontal male nudity is an automatic NC-17, that isn't true. I've seen R-rated films with male nudity. Granted, they only offer some fleeting views, but where are the R-rated films with gaping vulvas and flapping labia? Nowhere, because they don't exist. The same goes for those crappy cable shows: schlongs swinging in the breeze but not a clitoris in sight. And those pretentious indie movies like The Brown Bunny, in which we're treated to the site of Vincent Gallo's throbbing johnson, but not a trace of pink visible on Chloe Sevigny. Before crying (or implying) \"double-standard\" in matters of nudity, the mentally obtuse should take into account one unavoidably obvious anatomical difference between men and women: there are no genitals on display when actresses appears nude, and the same cannot be said for a man. In fact, you generally won't see female genitals in an American film in anything short of porn or explicit erotica. This alleged double-standard is less a double standard than an admittedly depressing ability to come to terms culturally with the insides of women's bodies.\n",
      "0\n"
     ]
    }
   ],
   "source": [
    "# пару примеров\n",
    "i = 0\n",
    "for example in dataset['train']:\n",
    "    if i <= 1:\n",
    "        print(example['text'])\n",
    "        print(example['label'])\n",
    "    i +=1\n",
    "\n",
    "    "
   ]
  },
  {
   "cell_type": "markdown",
   "id": "b0c82afa",
   "metadata": {
    "id": "24gn7CuZ9agP",
    "papermill": {
     "duration": 0.016261,
     "end_time": "2024-03-19T09:31:02.967138",
     "exception": false,
     "start_time": "2024-03-19T09:31:02.950877",
     "status": "completed"
    },
    "tags": []
   },
   "source": [
    "### Препроцессинг данных и создание словаря (1 балл)\n",
    "\n",
    "Далее вам необходмо самостоятельно произвести препроцессинг данных и получить словарь или же просто ```set``` строк. Что необходимо сделать:\n",
    "\n",
    "1. Разделить отдельные тренировочные примеры на отдельные предложения с помощью функции ```sent_tokenize``` из бибилиотеки ```nltk```. Каждое отдельное предложение будет одним тренировочным примером.\n",
    "2. Оставить только те предложения, в которых меньше ```word_threshold``` слов.\n",
    "3. Посчитать частоту вхождения каждого слова в оставшихся предложениях. Для деления предлоения на отдельные слова удобно использовать функцию ```word_tokenize```.\n",
    "4. Создать объект ```vocab``` класса ```set```, положить в него служебные токены '\\<unk\\>', '\\<bos\\>', '\\<eos\\>', '\\<pad\\>' и vocab_size самых частовстречающихся слов.   "
   ]
  },
  {
   "cell_type": "code",
   "execution_count": 11,
   "id": "cfbd83b3",
   "metadata": {
    "execution": {
     "iopub.execute_input": "2024-03-19T09:31:03.001402Z",
     "iopub.status.busy": "2024-03-19T09:31:03.001118Z",
     "iopub.status.idle": "2024-03-19T09:31:19.924456Z",
     "shell.execute_reply": "2024-03-19T09:31:19.923551Z"
    },
    "id": "Ins2tVCdsS47",
    "papermill": {
     "duration": 16.944086,
     "end_time": "2024-03-19T09:31:19.927610",
     "exception": false,
     "start_time": "2024-03-19T09:31:02.983524",
     "status": "completed"
    },
    "tags": []
   },
   "outputs": [
    {
     "data": {
      "application/vnd.jupyter.widget-view+json": {
       "model_id": "dbcdcfde8cbc4fc68979ab20be2bf61a",
       "version_major": 2,
       "version_minor": 0
      },
      "text/plain": [
       "  0%|          | 0/25000 [00:00<?, ?it/s]"
      ]
     },
     "metadata": {},
     "output_type": "display_data"
    }
   ],
   "source": [
    "import re\n",
    "\n",
    "sentences = []\n",
    "word_threshold = 32\n",
    "\n",
    "# Получить отдельные предложения и поместить их в sentences\n",
    "\n",
    "for text in tqdm(dataset['train']['text']):\n",
    "    for sentence in sent_tokenize(text, language='english'): \n",
    "        words = re.findall(r'\\w+', sentence) # может можно и лучше побить по словам\n",
    "        if len(words) <= word_threshold:\n",
    "            sentences.append(sentence)\n"
   ]
  },
  {
   "cell_type": "code",
   "execution_count": 12,
   "id": "81e39795",
   "metadata": {
    "execution": {
     "iopub.execute_input": "2024-03-19T09:31:19.962964Z",
     "iopub.status.busy": "2024-03-19T09:31:19.962646Z",
     "iopub.status.idle": "2024-03-19T09:31:20.499759Z",
     "shell.execute_reply": "2024-03-19T09:31:20.498794Z"
    },
    "papermill": {
     "duration": 0.557105,
     "end_time": "2024-03-19T09:31:20.501910",
     "exception": false,
     "start_time": "2024-03-19T09:31:19.944805",
     "status": "completed"
    },
    "tags": []
   },
   "outputs": [
    {
     "name": "stdout",
     "output_type": "stream",
     "text": [
      "36\n",
      "No Zeus + no imagination + no sparks = millions of little dollar bills with tiny wings - each made from the hundreds of licensing agreements required to use the clips - flying out the window.\n"
     ]
    }
   ],
   "source": [
    "# посмотрим, какая макс длина в словах получилась, и какое там предложение\n",
    "max_length = max(len(sentence.split()) for sentence in sentences)\n",
    "print(max_length)\n",
    "\n",
    "for sentence in sentences:\n",
    "    if len(sentence.split()) == max_length:\n",
    "        print(sentence)\n",
    "        \n",
    "\n"
   ]
  },
  {
   "cell_type": "code",
   "execution_count": 13,
   "id": "2f234d2a",
   "metadata": {
    "execution": {
     "iopub.execute_input": "2024-03-19T09:31:20.537578Z",
     "iopub.status.busy": "2024-03-19T09:31:20.537272Z",
     "iopub.status.idle": "2024-03-19T09:31:22.473035Z",
     "shell.execute_reply": "2024-03-19T09:31:22.472109Z"
    },
    "papermill": {
     "duration": 1.955779,
     "end_time": "2024-03-19T09:31:22.475066",
     "exception": false,
     "start_time": "2024-03-19T09:31:20.519287",
     "status": "completed"
    },
    "tags": []
   },
   "outputs": [
    {
     "data": {
      "image/png": "[encoded data removed]",
      "text/plain": [
       "<Figure size 1200x800 with 1 Axes>"
      ]
     },
     "metadata": {},
     "output_type": "display_data"
    }
   ],
   "source": [
    "# посмотрим распределение по длинам предложений\n",
    "\n",
    "import matplotlib.pyplot as plt\n",
    "import numpy as np\n",
    "\n",
    "\n",
    "# Для демонстрации создадим массив случайных длин предложений\n",
    "np.random.seed(0) # Для воспроизводимости результатов\n",
    "sentence_lengths = []\n",
    "for sentence in sentences:\n",
    "    sentence_lengths.append(len(sentence.split()))\n",
    "\n",
    "# Построение гистограммы длин предложений\n",
    "plt.figure(figsize=(12, 8))\n",
    "\n",
    "# Для большого количества данных лучше использовать больше корзин для гистограммы\n",
    "# или позволить matplotlib автоматически определить оптимальное их количество.\n",
    "# Автоматическое определение количества корзин:\n",
    "bin_edges = np.histogram_bin_edges(sentence_lengths, bins='auto')\n",
    "\n",
    "plt.hist(sentence_lengths, bins=bin_edges, alpha=0.7, color='blue', edgecolor='black')\n",
    "\n",
    "plt.title('Распределение длин предложений')\n",
    "plt.xlabel('Длина предложения (количество слов)')\n",
    "plt.ylabel('Количество предложений')\n",
    "\n",
    "# Установим шаг для отметок на оси X для улучшения читаемости\n",
    "tick_step = max(1, len(bin_edges) // 20) # Не более 20 отметок на оси X\n",
    "plt.xticks(bin_edges[::tick_step])\n",
    "\n",
    "plt.grid(True) # Добавляем сетку для лучшей ориентации\n",
    "plt.tight_layout() # Автоматическая корректировка подписей, чтобы они не перекрывались\n",
    "\n",
    "plt.show()\n"
   ]
  },
  {
   "cell_type": "markdown",
   "id": "66d7a77b",
   "metadata": {
    "papermill": {
     "duration": 0.017463,
     "end_time": "2024-03-19T09:31:22.510527",
     "exception": false,
     "start_time": "2024-03-19T09:31:22.493064",
     "status": "completed"
    },
    "tags": []
   },
   "source": [
    "устраивает. Не буду бороться с тем, что   words = re.findall(r'\\w+', sentence) оставляет + - и т.п."
   ]
  },
  {
   "cell_type": "code",
   "execution_count": 14,
   "id": "c2d28c05",
   "metadata": {
    "execution": {
     "iopub.execute_input": "2024-03-19T09:31:22.547247Z",
     "iopub.status.busy": "2024-03-19T09:31:22.546938Z",
     "iopub.status.idle": "2024-03-19T09:31:22.551595Z",
     "shell.execute_reply": "2024-03-19T09:31:22.550756Z"
    },
    "id": "bxeBxP3J1Rj3",
    "papermill": {
     "duration": 0.025206,
     "end_time": "2024-03-19T09:31:22.553494",
     "exception": false,
     "start_time": "2024-03-19T09:31:22.528288",
     "status": "completed"
    },
    "tags": []
   },
   "outputs": [
    {
     "name": "stdout",
     "output_type": "stream",
     "text": [
      "Всего предложений: 219312\n"
     ]
    }
   ],
   "source": [
    "print(\"Всего предложений:\", len(sentences))"
   ]
  },
  {
   "cell_type": "markdown",
   "id": "079f4c11",
   "metadata": {
    "id": "iT82XkT6ULA_",
    "papermill": {
     "duration": 0.059198,
     "end_time": "2024-03-19T09:31:22.630507",
     "exception": false,
     "start_time": "2024-03-19T09:31:22.571309",
     "status": "completed"
    },
    "tags": []
   },
   "source": [
    "Посчитаем для каждого слова его встречаемость."
   ]
  },
  {
   "cell_type": "code",
   "execution_count": 15,
   "id": "3883d3e0",
   "metadata": {
    "execution": {
     "iopub.execute_input": "2024-03-19T09:31:22.667645Z",
     "iopub.status.busy": "2024-03-19T09:31:22.667069Z",
     "iopub.status.idle": "2024-03-19T09:32:11.442705Z",
     "shell.execute_reply": "2024-03-19T09:32:11.441790Z"
    },
    "id": "nEvCN0Y1w1yH",
    "papermill": {
     "duration": 48.796259,
     "end_time": "2024-03-19T09:32:11.444580",
     "exception": false,
     "start_time": "2024-03-19T09:31:22.648321",
     "status": "completed"
    },
    "tags": []
   },
   "outputs": [
    {
     "data": {
      "application/vnd.jupyter.widget-view+json": {
       "model_id": "96ef5a6aad204d42808adcfa4fd4cd65",
       "version_major": 2,
       "version_minor": 0
      },
      "text/plain": [
       "  0%|          | 0/219312 [00:00<?, ?it/s]"
      ]
     },
     "metadata": {},
     "output_type": "display_data"
    }
   ],
   "source": [
    "words = Counter()\n",
    "\n",
    "# Расчет встречаемости слов\n",
    "\n",
    "for sentence in tqdm(sentences):\n",
    "    tokenized_sentence = word_tokenize(sentence, language='english')\n",
    "    for word in tokenized_sentence:\n",
    "        words[word] += 1"
   ]
  },
  {
   "cell_type": "code",
   "execution_count": 16,
   "id": "09a3d3b1",
   "metadata": {
    "execution": {
     "iopub.execute_input": "2024-03-19T09:32:11.483129Z",
     "iopub.status.busy": "2024-03-19T09:32:11.482517Z",
     "iopub.status.idle": "2024-03-19T09:32:11.488062Z",
     "shell.execute_reply": "2024-03-19T09:32:11.487234Z"
    },
    "papermill": {
     "duration": 0.026501,
     "end_time": "2024-03-19T09:32:11.489987",
     "exception": false,
     "start_time": "2024-03-19T09:32:11.463486",
     "status": "completed"
    },
    "tags": []
   },
   "outputs": [
    {
     "data": {
      "text/plain": [
       "93181"
      ]
     },
     "execution_count": 16,
     "metadata": {},
     "output_type": "execute_result"
    }
   ],
   "source": [
    "len(words)"
   ]
  },
  {
   "cell_type": "markdown",
   "id": "7ffcfab2",
   "metadata": {
    "id": "B4k4uSoHUSI0",
    "papermill": {
     "duration": 0.017883,
     "end_time": "2024-03-19T09:32:11.525969",
     "exception": false,
     "start_time": "2024-03-19T09:32:11.508086",
     "status": "completed"
    },
    "tags": []
   },
   "source": [
    "Добавим в словарь ```vocab_size``` самых встречающихся слов."
   ]
  },
  {
   "cell_type": "code",
   "execution_count": 17,
   "id": "12641042",
   "metadata": {
    "execution": {
     "iopub.execute_input": "2024-03-19T09:32:11.563203Z",
     "iopub.status.busy": "2024-03-19T09:32:11.562726Z",
     "iopub.status.idle": "2024-03-19T09:32:11.655991Z",
     "shell.execute_reply": "2024-03-19T09:32:11.655014Z"
    },
    "id": "oUBNwsK9xLIu",
    "papermill": {
     "duration": 0.114189,
     "end_time": "2024-03-19T09:32:11.658152",
     "exception": false,
     "start_time": "2024-03-19T09:32:11.543963",
     "status": "completed"
    },
    "tags": []
   },
   "outputs": [],
   "source": [
    "vocab = set(['<unk>', '<bos>', '<eos>', '<pad>'])\n",
    "vocab_size = 40000\n",
    "\n",
    "most_common_words = words.most_common(vocab_size) # на любой чих тут встроенные методы -)\n",
    "\n",
    "# Наполнение словаря\n",
    "for word, _ in most_common_words:\n",
    "    vocab.add(word)"
   ]
  },
  {
   "cell_type": "code",
   "execution_count": 18,
   "id": "d46d73a5",
   "metadata": {
    "execution": {
     "iopub.execute_input": "2024-03-19T09:32:11.700307Z",
     "iopub.status.busy": "2024-03-19T09:32:11.699948Z",
     "iopub.status.idle": "2024-03-19T09:32:11.707033Z",
     "shell.execute_reply": "2024-03-19T09:32:11.705896Z"
    },
    "papermill": {
     "duration": 0.031342,
     "end_time": "2024-03-19T09:32:11.709538",
     "exception": false,
     "start_time": "2024-03-19T09:32:11.678196",
     "status": "completed"
    },
    "tags": []
   },
   "outputs": [
    {
     "data": {
      "text/plain": [
       "40004"
      ]
     },
     "execution_count": 18,
     "metadata": {},
     "output_type": "execute_result"
    }
   ],
   "source": [
    "len(vocab)"
   ]
  },
  {
   "cell_type": "code",
   "execution_count": 19,
   "id": "d4b19ce7",
   "metadata": {
    "execution": {
     "iopub.execute_input": "2024-03-19T09:32:11.756047Z",
     "iopub.status.busy": "2024-03-19T09:32:11.755707Z",
     "iopub.status.idle": "2024-03-19T09:32:11.760601Z",
     "shell.execute_reply": "2024-03-19T09:32:11.759694Z"
    },
    "id": "ieT0DFUpXnV2",
    "papermill": {
     "duration": 0.028922,
     "end_time": "2024-03-19T09:32:11.762435",
     "exception": false,
     "start_time": "2024-03-19T09:32:11.733513",
     "status": "completed"
    },
    "tags": []
   },
   "outputs": [],
   "source": [
    "assert '<unk>' in vocab\n",
    "assert '<bos>' in vocab\n",
    "assert '<eos>' in vocab\n",
    "assert '<pad>' in vocab\n",
    "assert len(vocab) == vocab_size + 4"
   ]
  },
  {
   "cell_type": "code",
   "execution_count": 20,
   "id": "86dcb6f0",
   "metadata": {
    "execution": {
     "iopub.execute_input": "2024-03-19T09:32:11.800388Z",
     "iopub.status.busy": "2024-03-19T09:32:11.800124Z",
     "iopub.status.idle": "2024-03-19T09:32:11.804734Z",
     "shell.execute_reply": "2024-03-19T09:32:11.803819Z"
    },
    "id": "JhACW2CQyck5",
    "papermill": {
     "duration": 0.02609,
     "end_time": "2024-03-19T09:32:11.806906",
     "exception": false,
     "start_time": "2024-03-19T09:32:11.780816",
     "status": "completed"
    },
    "tags": []
   },
   "outputs": [
    {
     "name": "stdout",
     "output_type": "stream",
     "text": [
      "Всего слов в словаре: 40004\n"
     ]
    }
   ],
   "source": [
    "print(\"Всего слов в словаре:\", len(vocab))"
   ]
  },
  {
   "cell_type": "markdown",
   "id": "e966ee2f",
   "metadata": {
    "id": "UmeRYKSIUcdE",
    "papermill": {
     "duration": 0.018354,
     "end_time": "2024-03-19T09:32:11.843643",
     "exception": false,
     "start_time": "2024-03-19T09:32:11.825289",
     "status": "completed"
    },
    "tags": []
   },
   "source": [
    "### Подготовка датасета (1 балл)\n",
    "\n",
    "Далее, как и в семинарском занятии, подготовим датасеты и даталоадеры.\n",
    "\n",
    "В классе ```WordDataset``` вам необходимо реализовать метод ```__getitem__```, который будет возвращать сэмпл данных по входному idx, то есть список целых чисел (индексов слов).\n",
    "\n",
    "Внутри этого метода необходимо добавить служебные токены начала и конца последовательности, а также токенизировать соответствующее предложение с помощью ```word_tokenize``` и сопоставить ему индексы из ```word2ind```."
   ]
  },
  {
   "cell_type": "code",
   "execution_count": 21,
   "id": "0f9668f4",
   "metadata": {
    "execution": {
     "iopub.execute_input": "2024-03-19T09:32:11.881876Z",
     "iopub.status.busy": "2024-03-19T09:32:11.881591Z",
     "iopub.status.idle": "2024-03-19T09:32:11.903360Z",
     "shell.execute_reply": "2024-03-19T09:32:11.902375Z"
    },
    "id": "iD7SmSy3v2dl",
    "papermill": {
     "duration": 0.042818,
     "end_time": "2024-03-19T09:32:11.905142",
     "exception": false,
     "start_time": "2024-03-19T09:32:11.862324",
     "status": "completed"
    },
    "tags": []
   },
   "outputs": [
    {
     "name": "stdout",
     "output_type": "stream",
     "text": [
      "ok\n"
     ]
    }
   ],
   "source": [
    "word2ind = {word: i for i, word in enumerate(vocab)}\n",
    "ind2word = {i: word for word, i in word2ind.items()}\n",
    "\n",
    "print(\"ok\")"
   ]
  },
  {
   "cell_type": "code",
   "execution_count": 22,
   "id": "7e973518",
   "metadata": {
    "execution": {
     "iopub.execute_input": "2024-03-19T09:32:11.943061Z",
     "iopub.status.busy": "2024-03-19T09:32:11.942804Z",
     "iopub.status.idle": "2024-03-19T09:32:11.950241Z",
     "shell.execute_reply": "2024-03-19T09:32:11.949336Z"
    },
    "id": "FVzXL17PzC7K",
    "papermill": {
     "duration": 0.028687,
     "end_time": "2024-03-19T09:32:11.952265",
     "exception": false,
     "start_time": "2024-03-19T09:32:11.923578",
     "status": "completed"
    },
    "tags": []
   },
   "outputs": [
    {
     "name": "stdout",
     "output_type": "stream",
     "text": [
      "ok\n"
     ]
    }
   ],
   "source": [
    "class WordDataset:\n",
    "    def __init__(self, sentences):\n",
    "        self.data = sentences\n",
    "        self.unk_id = word2ind['<unk>']\n",
    "        self.bos_id = word2ind['<bos>']\n",
    "        self.eos_id = word2ind['<eos>']\n",
    "        self.pad_id = word2ind['<pad>']\n",
    "\n",
    "    def __getitem__(self, idx: int) -> List[int]:\n",
    "        tokenized_sentence = []\n",
    "        tokenized_sentence = [self.bos_id]\n",
    "        tokenized_sentence += [word2ind.get(word, self.unk_id) for word in word_tokenize(self.data[idx])]\n",
    "        tokenized_sentence += [self.eos_id]\n",
    "\n",
    "        return tokenized_sentence\n",
    "\n",
    "    def __len__(self) -> int:\n",
    "        return len(self.data)\n",
    "    \n",
    "print(\"ok\")"
   ]
  },
  {
   "cell_type": "code",
   "execution_count": 23,
   "id": "f5a4a3f8",
   "metadata": {
    "execution": {
     "iopub.execute_input": "2024-03-19T09:32:11.990354Z",
     "iopub.status.busy": "2024-03-19T09:32:11.990090Z",
     "iopub.status.idle": "2024-03-19T09:32:11.996332Z",
     "shell.execute_reply": "2024-03-19T09:32:11.995428Z"
    },
    "id": "I6CtYNMp2_g0",
    "papermill": {
     "duration": 0.027281,
     "end_time": "2024-03-19T09:32:11.998145",
     "exception": false,
     "start_time": "2024-03-19T09:32:11.970864",
     "status": "completed"
    },
    "tags": []
   },
   "outputs": [],
   "source": [
    "def collate_fn_with_padding(\n",
    "    input_batch: List[List[int]], pad_id=word2ind['<pad>']) -> torch.Tensor:\n",
    "    seq_lens = [len(x) for x in input_batch]\n",
    "    max_seq_len = max(seq_lens)\n",
    "\n",
    "    new_batch = []\n",
    "    for sequence in input_batch:\n",
    "        for _ in range(max_seq_len - len(sequence)):\n",
    "            sequence.append(pad_id)\n",
    "        new_batch.append(sequence)\n",
    "\n",
    "    sequences = torch.LongTensor(new_batch).to(device)\n",
    "\n",
    "    new_batch = {\n",
    "        'input_ids': sequences[:,:-1],\n",
    "        'target_ids': sequences[:,1:]\n",
    "    }\n",
    "\n",
    "    return new_batch"
   ]
  },
  {
   "cell_type": "code",
   "execution_count": 24,
   "id": "ff29deb9",
   "metadata": {
    "execution": {
     "iopub.execute_input": "2024-03-19T09:32:12.036409Z",
     "iopub.status.busy": "2024-03-19T09:32:12.036147Z",
     "iopub.status.idle": "2024-03-19T09:32:12.125051Z",
     "shell.execute_reply": "2024-03-19T09:32:12.124315Z"
    },
    "id": "6xmeK9Ys1BIG",
    "papermill": {
     "duration": 0.11043,
     "end_time": "2024-03-19T09:32:12.126992",
     "exception": false,
     "start_time": "2024-03-19T09:32:12.016562",
     "status": "completed"
    },
    "tags": []
   },
   "outputs": [],
   "source": [
    "train_sentences, temp_sentences = train_test_split(sentences, test_size=0.2)\n",
    "eval_sentences, test_sentences = train_test_split(temp_sentences, test_size=0.5)\n",
    "\n",
    "\n",
    "train_dataset = WordDataset(train_sentences)\n",
    "eval_dataset = WordDataset(eval_sentences)\n",
    "test_dataset = WordDataset(test_sentences)\n",
    "\n",
    "batch_size = 16 # это борьба с ООМ (OutOfMemoryError: CUDA out of memory. \n",
    "# Tried to allocate 3.74 GiB. GPU 0 has a total capacty of 14.75 GiB of which 2.96 GiB is free. \n",
    "# Process 3799 has 11.78 GiB memory in use. Of the allocated memory 11.57 GiB is allocated by PyTorch, \n",
    "# and 77.50 MiB is reserved by PyTorch but unallocated. \n",
    "# If reserved but unallocated memory is large try setting max_split_size_mb to avoid fragmentation.  \n",
    "# See documentation for Memory Management and PYTORCH_CUDA_ALLOC_CONF)\n",
    "\n",
    "train_dataloader = DataLoader(\n",
    "    train_dataset, collate_fn=collate_fn_with_padding, batch_size=batch_size)\n",
    "\n",
    "eval_dataloader = DataLoader(\n",
    "    eval_dataset, collate_fn=collate_fn_with_padding, batch_size=batch_size)\n",
    "\n",
    "test_dataloader = DataLoader(\n",
    "    test_dataset, collate_fn=collate_fn_with_padding, batch_size=batch_size)"
   ]
  },
  {
   "cell_type": "code",
   "execution_count": 25,
   "id": "4f989158",
   "metadata": {
    "execution": {
     "iopub.execute_input": "2024-03-19T09:32:12.165672Z",
     "iopub.status.busy": "2024-03-19T09:32:12.165371Z",
     "iopub.status.idle": "2024-03-19T09:32:12.170038Z",
     "shell.execute_reply": "2024-03-19T09:32:12.169198Z"
    },
    "papermill": {
     "duration": 0.02625,
     "end_time": "2024-03-19T09:32:12.172192",
     "exception": false,
     "start_time": "2024-03-19T09:32:12.145942",
     "status": "completed"
    },
    "tags": []
   },
   "outputs": [
    {
     "name": "stdout",
     "output_type": "stream",
     "text": [
      "[10792, 33872, 6558, 35546, 30637, 4378, 38698, 27227, 12817, 13323, 11333, 9661, 13741, 9810, 33027, 23346, 20511, 33072, 15622, 15872]\n"
     ]
    }
   ],
   "source": [
    "print(train_dataset[123])"
   ]
  },
  {
   "cell_type": "code",
   "execution_count": 26,
   "id": "d3ddde49",
   "metadata": {
    "execution": {
     "iopub.execute_input": "2024-03-19T09:32:12.210996Z",
     "iopub.status.busy": "2024-03-19T09:32:12.210302Z",
     "iopub.status.idle": "2024-03-19T09:32:12.215258Z",
     "shell.execute_reply": "2024-03-19T09:32:12.214388Z"
    },
    "papermill": {
     "duration": 0.026206,
     "end_time": "2024-03-19T09:32:12.217233",
     "exception": false,
     "start_time": "2024-03-19T09:32:12.191027",
     "status": "completed"
    },
    "tags": []
   },
   "outputs": [
    {
     "name": "stdout",
     "output_type": "stream",
     "text": [
      "['<bos>', 'Definitely', 'my', 'two', 'favourite', 'films', 'of', 'all', 'time', ',', 'I', 'watch', 'them', 'at', 'least', 'once', 'a', '<unk>', '.', '<eos>']\n"
     ]
    }
   ],
   "source": [
    " print([ind2word[i] for i in train_dataset[123]])\n"
   ]
  },
  {
   "cell_type": "markdown",
   "id": "f0f23948",
   "metadata": {
    "id": "SMAexY7Y45E4",
    "papermill": {
     "duration": 0.01839,
     "end_time": "2024-03-19T09:32:12.254313",
     "exception": false,
     "start_time": "2024-03-19T09:32:12.235923",
     "status": "completed"
    },
    "tags": []
   },
   "source": [
    "## Обучение и архитектура модели\n",
    "\n",
    "Вам необходимо на практике проверить, что влияет на качество языковых моделей. В этом задании нужно провести серию экспериментов с различными вариантами языковых моделей и сравнить различия в конечной перплексии на тестовом множестве.\n",
    "\n",
    "Возмоэные идеи для экспериментов:\n",
    "\n",
    "* Различные RNN-блоки, например, LSTM или GRU. Также можно добавить сразу несколько RNN блоков друг над другом с помощью аргумента num_layers. Вам поможет официальная документация [здесь](https://pytorch.org/docs/stable/generated/torch.nn.LSTM.html)\n",
    "* Различные размеры скрытого состояния. Различное количество линейных слоев после RNN-блока. Различные функции активации.\n",
    "* Добавление нормализаций в виде Dropout, BatchNorm или LayerNorm\n",
    "* Различные аргументы для оптимизации, например, подбор оптимального learning rate или тип алгоритма оптимизации SGD, Adam, RMSProp и другие\n",
    "* Любые другие идеи и подходы\n",
    "\n",
    "После проведения экспериментов необходимо составить таблицу результатов, в которой описан каждый эксперимент и посчитана перплексия на тестовом множестве.\n",
    "\n",
    "Учтите, что эксперименты, которые различаются, например, только размером скрытого состояния или количеством линейных слоев считаются, как один эксперимент.\n",
    "\n",
    "Успехов!"
   ]
  },
  {
   "cell_type": "markdown",
   "id": "004b1a42",
   "metadata": {
    "id": "KP1cO-3bmDv9",
    "papermill": {
     "duration": 0.018368,
     "end_time": "2024-03-19T09:32:12.291634",
     "exception": false,
     "start_time": "2024-03-19T09:32:12.273266",
     "status": "completed"
    },
    "tags": []
   },
   "source": [
    "### Функция evaluate (1 балл)\n",
    "\n",
    "Заполните функцию ```evaluate```"
   ]
  },
  {
   "cell_type": "code",
   "execution_count": 27,
   "id": "d24ada0a",
   "metadata": {
    "execution": {
     "iopub.execute_input": "2024-03-19T09:32:12.330501Z",
     "iopub.status.busy": "2024-03-19T09:32:12.329908Z",
     "iopub.status.idle": "2024-03-19T09:32:12.336972Z",
     "shell.execute_reply": "2024-03-19T09:32:12.336126Z"
    },
    "id": "XUlMUVJ3mL4r",
    "papermill": {
     "duration": 0.02878,
     "end_time": "2024-03-19T09:32:12.339002",
     "exception": false,
     "start_time": "2024-03-19T09:32:12.310222",
     "status": "completed"
    },
    "tags": []
   },
   "outputs": [
    {
     "name": "stdout",
     "output_type": "stream",
     "text": [
      "ok\n"
     ]
    }
   ],
   "source": [
    "def evaluate(model, criterion, dataloader) -> float:\n",
    "    model.eval()\n",
    "    perplexity = []\n",
    "    with torch.no_grad():\n",
    "        for batch in dataloader:\n",
    "            logits = model(batch['input_ids']).flatten(start_dim=0, end_dim=1) # Посчитайте логиты предсказаний следующих слов\n",
    "            loss = criterion(logits, batch['target_ids'].flatten())\n",
    "            perplexity.append(torch.exp(loss).item())\n",
    "\n",
    "    perplexity = sum(perplexity) / len(perplexity)\n",
    "\n",
    "    return perplexity\n",
    "\n",
    "print('ok')"
   ]
  },
  {
   "cell_type": "markdown",
   "id": "718eee76",
   "metadata": {
    "id": "bLV63Vsk7loy",
    "papermill": {
     "duration": 0.018506,
     "end_time": "2024-03-19T09:32:12.376430",
     "exception": false,
     "start_time": "2024-03-19T09:32:12.357924",
     "status": "completed"
    },
    "tags": []
   },
   "source": [
    "### Train loop (1 балл)\n",
    "\n",
    "Напишите функцию для обучения модели."
   ]
  },
  {
   "cell_type": "code",
   "execution_count": 28,
   "id": "0f483c74",
   "metadata": {
    "execution": {
     "iopub.execute_input": "2024-03-19T09:32:12.416984Z",
     "iopub.status.busy": "2024-03-19T09:32:12.416633Z",
     "iopub.status.idle": "2024-03-19T09:32:12.425293Z",
     "shell.execute_reply": "2024-03-19T09:32:12.424388Z"
    },
    "id": "bSZmUC3YmocP",
    "papermill": {
     "duration": 0.031743,
     "end_time": "2024-03-19T09:32:12.427393",
     "exception": false,
     "start_time": "2024-03-19T09:32:12.395650",
     "status": "completed"
    },
    "tags": []
   },
   "outputs": [
    {
     "name": "stdout",
     "output_type": "stream",
     "text": [
      "ok\n"
     ]
    }
   ],
   "source": [
    "def train_model(model, epochs=10):\n",
    "    # Напишите код здесь\n",
    "    num_epoch = epochs\n",
    "    losses = []\n",
    "    perplexities = []\n",
    "\n",
    "    for epoch in range(epochs):\n",
    "        epoch_losses = []\n",
    "        model.train()\n",
    "        for batch in train_dataloader:  # Убрано оборачивание в tqdm\n",
    "            optimizer.zero_grad()\n",
    "            logits = model(batch['input_ids']).flatten(start_dim=0, end_dim=1)\n",
    "            loss = criterion(\n",
    "                logits, batch['target_ids'].flatten())\n",
    "            loss.backward()\n",
    "            optimizer.step()\n",
    "\n",
    "            epoch_losses.append(loss.item())\n",
    "            \n",
    "        avg_loss = sum(epoch_losses) / len(epoch_losses)\n",
    "        perplexity = evaluate(model, criterion, eval_dataloader)\n",
    "\n",
    "        losses.append(sum(epoch_losses) / len(epoch_losses))\n",
    "        perplexities.append(evaluate(model, criterion, eval_dataloader))\n",
    "    \n",
    "    # Вывод средней потери и перплексии для отслеживания процесса обучения\n",
    "        print(f\"Epoch {epoch+1}: Average Loss = {avg_loss:.4f}, Perplexity = {perplexity:.4f}\")\n",
    "\n",
    "    return losses, perplexities\n",
    "    \n",
    "print('ok')\n",
    "    \n"
   ]
  },
  {
   "cell_type": "markdown",
   "id": "75302297",
   "metadata": {
    "id": "hXmeyhBQmuq4",
    "papermill": {
     "duration": 0.018639,
     "end_time": "2024-03-19T09:32:12.465581",
     "exception": false,
     "start_time": "2024-03-19T09:32:12.446942",
     "status": "completed"
    },
    "tags": []
   },
   "source": [
    "### Первый эксперимент (2 балла)\n",
    "\n",
    "Определите архитектуру модели и обучите её."
   ]
  },
  {
   "cell_type": "code",
   "execution_count": 29,
   "id": "200d8b08",
   "metadata": {
    "execution": {
     "iopub.execute_input": "2024-03-19T09:32:12.506055Z",
     "iopub.status.busy": "2024-03-19T09:32:12.505226Z",
     "iopub.status.idle": "2024-03-19T09:32:12.513195Z",
     "shell.execute_reply": "2024-03-19T09:32:12.512315Z"
    },
    "id": "qaWvqNJom0ij",
    "papermill": {
     "duration": 0.030266,
     "end_time": "2024-03-19T09:32:12.515175",
     "exception": false,
     "start_time": "2024-03-19T09:32:12.484909",
     "status": "completed"
    },
    "tags": []
   },
   "outputs": [],
   "source": [
    "class LanguageModel(nn.Module):\n",
    "    def __init__(self, hidden_dim: int, vocab_size: int):\n",
    "        super().__init__()\n",
    "        self.embedding = nn.Embedding(vocab_size, hidden_dim)\n",
    "        self.rnn = nn.GRU(hidden_dim, hidden_dim, batch_first=True)\n",
    "        self.linear = nn.Linear(hidden_dim, hidden_dim)\n",
    "        self.projection = nn.Linear(hidden_dim, vocab_size)\n",
    "\n",
    "        self.non_lin = nn.Tanh()\n",
    "        self.dropout = nn.Dropout(p=0.1)\n",
    "\n",
    "    def forward(self, input_batch: torch.Tensor) -> torch.Tensor:\n",
    "        embeddings = self.embedding(input_batch)  # [batch_size, seq_len, hidden_dim]\n",
    "        output, _ = self.rnn(embeddings)  # [batch_size, seq_len, hidden_dim]\n",
    "        output = self.dropout(self.linear(self.non_lin(output)))  # [batch_size, seq_len, hidden_dim]\n",
    "        projection = self.projection(self.non_lin(output))  # [batch_size, seq_len, vocab_size]    \n",
    "    \n",
    "        return projection"
   ]
  },
  {
   "cell_type": "code",
   "execution_count": 30,
   "id": "5a970f9e",
   "metadata": {
    "execution": {
     "iopub.execute_input": "2024-03-19T09:32:12.555255Z",
     "iopub.status.busy": "2024-03-19T09:32:12.554455Z",
     "iopub.status.idle": "2024-03-19T09:32:14.898397Z",
     "shell.execute_reply": "2024-03-19T09:32:14.897585Z"
    },
    "papermill": {
     "duration": 2.366321,
     "end_time": "2024-03-19T09:32:14.900776",
     "exception": false,
     "start_time": "2024-03-19T09:32:12.534455",
     "status": "completed"
    },
    "tags": []
   },
   "outputs": [],
   "source": [
    "model = LanguageModel(hidden_dim=64, vocab_size=len(vocab)).to(device)\n",
    "criterion = nn.CrossEntropyLoss(ignore_index=word2ind['<pad>'])\n",
    "optimizer = torch.optim.Adam(model.parameters())"
   ]
  },
  {
   "cell_type": "code",
   "execution_count": 31,
   "id": "8182810b",
   "metadata": {
    "execution": {
     "iopub.execute_input": "2024-03-19T09:32:14.942009Z",
     "iopub.status.busy": "2024-03-19T09:32:14.941513Z",
     "iopub.status.idle": "2024-03-19T10:12:57.207719Z",
     "shell.execute_reply": "2024-03-19T10:12:57.206630Z"
    },
    "id": "TxbEzn5fnBOY",
    "papermill": {
     "duration": 2442.309522,
     "end_time": "2024-03-19T10:12:57.230894",
     "exception": false,
     "start_time": "2024-03-19T09:32:14.921372",
     "status": "completed"
    },
    "tags": []
   },
   "outputs": [
    {
     "name": "stdout",
     "output_type": "stream",
     "text": [
      "Epoch 1: Average Loss = 5.4084, Perplexity = 169.0176\n",
      "Epoch 2: Average Loss = 4.9992, Perplexity = 148.1136\n",
      "Epoch 3: Average Loss = 4.8781, Perplexity = 139.1836\n",
      "Epoch 4: Average Loss = 4.8045, Perplexity = 134.8711\n",
      "Epoch 5: Average Loss = 4.7523, Perplexity = 131.5811\n",
      "Epoch 6: Average Loss = 4.7123, Perplexity = 130.2663\n",
      "Epoch 7: Average Loss = 4.6799, Perplexity = 128.4659\n",
      "Epoch 8: Average Loss = 4.6525, Perplexity = 127.1111\n",
      "Epoch 9: Average Loss = 4.6293, Perplexity = 125.7031\n",
      "Epoch 10: Average Loss = 4.6085, Perplexity = 124.5688\n",
      "Epoch 11: Average Loss = 4.5904, Perplexity = 124.1667\n",
      "Epoch 12: Average Loss = 4.5732, Perplexity = 123.3317\n",
      "Epoch 13: Average Loss = 4.5574, Perplexity = 123.1537\n",
      "Epoch 14: Average Loss = 4.5435, Perplexity = 122.9780\n",
      "Epoch 15: Average Loss = 4.5308, Perplexity = 122.3702\n",
      "Epoch 16: Average Loss = 4.5184, Perplexity = 122.3226\n",
      "Epoch 17: Average Loss = 4.5068, Perplexity = 122.6210\n",
      "Epoch 18: Average Loss = 4.4964, Perplexity = 122.4737\n",
      "Epoch 19: Average Loss = 4.4855, Perplexity = 122.7106\n",
      "Epoch 20: Average Loss = 4.4755, Perplexity = 122.5692\n"
     ]
    }
   ],
   "source": [
    "# Обучите модель здесь\n",
    "losses, perplexities = train_model(model, epochs=20)"
   ]
  },
  {
   "cell_type": "code",
   "execution_count": 32,
   "id": "6563b3d9",
   "metadata": {
    "execution": {
     "iopub.execute_input": "2024-03-19T10:12:57.278789Z",
     "iopub.status.busy": "2024-03-19T10:12:57.278348Z",
     "iopub.status.idle": "2024-03-19T10:12:57.642450Z",
     "shell.execute_reply": "2024-03-19T10:12:57.641455Z"
    },
    "papermill": {
     "duration": 0.391364,
     "end_time": "2024-03-19T10:12:57.644725",
     "exception": false,
     "start_time": "2024-03-19T10:12:57.253361",
     "status": "completed"
    },
    "tags": []
   },
   "outputs": [
    {
     "data": {
      "image/png": "[encoded data removed]",
      "text/plain": [
       "<Figure size 640x480 with 1 Axes>"
      ]
     },
     "metadata": {},
     "output_type": "display_data"
    }
   ],
   "source": [
    "plt.plot(np.arange(len(losses)), losses)\n",
    "plt.title('Losses')\n",
    "plt.xlabel(\"epoch\")\n",
    "plt.show()"
   ]
  },
  {
   "cell_type": "code",
   "execution_count": 33,
   "id": "61f7d73a",
   "metadata": {
    "execution": {
     "iopub.execute_input": "2024-03-19T10:12:57.688684Z",
     "iopub.status.busy": "2024-03-19T10:12:57.688393Z",
     "iopub.status.idle": "2024-03-19T10:12:58.031920Z",
     "shell.execute_reply": "2024-03-19T10:12:58.030886Z"
    },
    "papermill": {
     "duration": 0.36766,
     "end_time": "2024-03-19T10:12:58.034114",
     "exception": false,
     "start_time": "2024-03-19T10:12:57.666454",
     "status": "completed"
    },
    "tags": []
   },
   "outputs": [
    {
     "data": {
      "image/png": "[encoded data removed]",
      "text/plain": [
       "<Figure size 640x480 with 1 Axes>"
      ]
     },
     "metadata": {},
     "output_type": "display_data"
    }
   ],
   "source": [
    "plt.plot(np.arange(len(perplexities)), perplexities)\n",
    "plt.title('Perplexity')\n",
    "plt.xlabel(\"epoch\")\n",
    "plt.show()"
   ]
  },
  {
   "cell_type": "code",
   "execution_count": 34,
   "id": "ba611142",
   "metadata": {
    "execution": {
     "iopub.execute_input": "2024-03-19T10:12:58.080012Z",
     "iopub.status.busy": "2024-03-19T10:12:58.079601Z",
     "iopub.status.idle": "2024-03-19T10:13:05.943334Z",
     "shell.execute_reply": "2024-03-19T10:13:05.942454Z"
    },
    "papermill": {
     "duration": 7.888908,
     "end_time": "2024-03-19T10:13:05.945386",
     "exception": false,
     "start_time": "2024-03-19T10:12:58.056478",
     "status": "completed"
    },
    "tags": []
   },
   "outputs": [
    {
     "data": {
      "text/plain": [
       "121.84292956741076"
      ]
     },
     "execution_count": 34,
     "metadata": {},
     "output_type": "execute_result"
    }
   ],
   "source": [
    "evaluate(model, criterion, test_dataloader)"
   ]
  },
  {
   "cell_type": "code",
   "execution_count": 35,
   "id": "a06889b2",
   "metadata": {
    "execution": {
     "iopub.execute_input": "2024-03-19T10:13:05.991141Z",
     "iopub.status.busy": "2024-03-19T10:13:05.990836Z",
     "iopub.status.idle": "2024-03-19T10:13:06.036896Z",
     "shell.execute_reply": "2024-03-19T10:13:06.036107Z"
    },
    "papermill": {
     "duration": 0.070964,
     "end_time": "2024-03-19T10:13:06.038946",
     "exception": false,
     "start_time": "2024-03-19T10:13:05.967982",
     "status": "completed"
    },
    "tags": []
   },
   "outputs": [],
   "source": [
    "torch.save(model.state_dict(), 'model_state_LanguageModel.pth')\n"
   ]
  },
  {
   "cell_type": "code",
   "execution_count": 36,
   "id": "8cd803f9",
   "metadata": {
    "execution": {
     "iopub.execute_input": "2024-03-19T10:13:06.084194Z",
     "iopub.status.busy": "2024-03-19T10:13:06.083887Z",
     "iopub.status.idle": "2024-03-19T10:13:06.087919Z",
     "shell.execute_reply": "2024-03-19T10:13:06.087059Z"
    },
    "papermill": {
     "duration": 0.02864,
     "end_time": "2024-03-19T10:13:06.089736",
     "exception": false,
     "start_time": "2024-03-19T10:13:06.061096",
     "status": "completed"
    },
    "tags": []
   },
   "outputs": [],
   "source": [
    "# model = LanguageModel(hidden_dim=64, vocab_size=len(vocab))  # Параметры должны совпадать с теми, что были использованы при обучении\n",
    "\n",
    "# model.load_state_dict(torch.load('/kaggle/input/my-models-to-check/model_state_LanguageModel.pth'))\n",
    "# model.eval()  # Переводим модель в режим оценки, если собираемся использовать для инференса\n"
   ]
  },
  {
   "cell_type": "code",
   "execution_count": 37,
   "id": "841a8436",
   "metadata": {
    "execution": {
     "iopub.execute_input": "2024-03-19T10:13:06.134471Z",
     "iopub.status.busy": "2024-03-19T10:13:06.134197Z",
     "iopub.status.idle": "2024-03-19T10:13:07.106228Z",
     "shell.execute_reply": "2024-03-19T10:13:07.105111Z"
    },
    "papermill": {
     "duration": 0.996627,
     "end_time": "2024-03-19T10:13:07.108470",
     "exception": false,
     "start_time": "2024-03-19T10:13:06.111843",
     "status": "completed"
    },
    "tags": []
   },
   "outputs": [
    {
     "name": "stdout",
     "output_type": "stream",
     "text": [
      "total 8\r\n",
      "drwxr-xr-x 3 root   root    4096 Mar 19 09:29 .\r\n",
      "drwxr-xr-x 6 root   root    4096 Mar 19 09:29 ..\r\n",
      "drwxr-xr-x 2 nobody nogroup    0 Mar 18 18:40 my-models-to-check\r\n"
     ]
    }
   ],
   "source": [
    "!ls -la /kaggle/input"
   ]
  },
  {
   "cell_type": "markdown",
   "id": "36ea1f4c",
   "metadata": {
    "id": "X1EW4faIm0tl",
    "papermill": {
     "duration": 0.021847,
     "end_time": "2024-03-19T10:13:07.152692",
     "exception": false,
     "start_time": "2024-03-19T10:13:07.130845",
     "status": "completed"
    },
    "tags": []
   },
   "source": [
    "### Второй эксперимент (2 балла)\n",
    "\n",
    "Попробуйте что-то поменять в модели или в пайплайне обучения, идеи для экспериментов можно подсмотреть выше."
   ]
  },
  {
   "cell_type": "code",
   "execution_count": 38,
   "id": "d0533b44",
   "metadata": {
    "execution": {
     "iopub.execute_input": "2024-03-19T10:13:07.199033Z",
     "iopub.status.busy": "2024-03-19T10:13:07.198400Z",
     "iopub.status.idle": "2024-03-19T10:13:07.209483Z",
     "shell.execute_reply": "2024-03-19T10:13:07.208780Z"
    },
    "id": "wkSE4jR1XzTg",
    "papermill": {
     "duration": 0.036593,
     "end_time": "2024-03-19T10:13:07.211285",
     "exception": false,
     "start_time": "2024-03-19T10:13:07.174692",
     "status": "completed"
    },
    "tags": []
   },
   "outputs": [],
   "source": [
    "# Проведите второй эксперимент\n",
    "# Добавление нормализаций в виде Dropout, BatchNorm или LayerNorm - хочу такое сделать\n",
    "\n",
    "\n",
    "class LanguageModelLayerNorm(nn.Module):\n",
    "    def __init__(self, hidden_dim: int, vocab_size: int):\n",
    "        super().__init__()\n",
    "        self.embedding = nn.Embedding(vocab_size, hidden_dim)\n",
    "        self.rnn = nn.GRU(hidden_dim, hidden_dim, batch_first=True)\n",
    "        self.linear = nn.Linear(hidden_dim, hidden_dim)\n",
    "\n",
    "        # Добавляем слой LayerNorm после RNN и после первого линейного слоя\n",
    "        self.layer_norm_rnn = nn.LayerNorm(hidden_dim)\n",
    "        self.layer_norm_linear = nn.LayerNorm(hidden_dim)\n",
    "\n",
    "        self.projection = nn.Linear(hidden_dim, vocab_size)\n",
    "        self.non_lin = nn.Tanh()\n",
    "        self.dropout = nn.Dropout(p=0.1)\n",
    "\n",
    "    def forward(self, input_batch: torch.Tensor) -> torch.Tensor:\n",
    "        embeddings = self.embedding(input_batch)  # [batch_size, seq_len, hidden_dim]\n",
    "        output, _ = self.rnn(embeddings)  # [batch_size, seq_len, hidden_dim]\n",
    "        output = self.layer_norm_rnn(output)  # Применяем LayerNorm после RNN\n",
    "        output = self.dropout(self.linear(self.non_lin(output)))  # [batch_size, seq_len, hidden_dim]\n",
    "        output = self.layer_norm_linear(output)  # Применяем LayerNorm после первого линейного слоя\n",
    "        projection = self.projection(self.non_lin(output))  # [batch_size, seq_len, vocab_size]    \n",
    "    \n",
    "        return projection\n",
    "\n"
   ]
  },
  {
   "cell_type": "code",
   "execution_count": 39,
   "id": "81a5be76",
   "metadata": {
    "execution": {
     "iopub.execute_input": "2024-03-19T10:13:07.256575Z",
     "iopub.status.busy": "2024-03-19T10:13:07.256268Z",
     "iopub.status.idle": "2024-03-19T10:13:07.322055Z",
     "shell.execute_reply": "2024-03-19T10:13:07.321126Z"
    },
    "papermill": {
     "duration": 0.09081,
     "end_time": "2024-03-19T10:13:07.324129",
     "exception": false,
     "start_time": "2024-03-19T10:13:07.233319",
     "status": "completed"
    },
    "tags": []
   },
   "outputs": [],
   "source": [
    "model = LanguageModelLayerNorm(hidden_dim=64, vocab_size=len(vocab)).to(device)\n",
    "criterion = nn.CrossEntropyLoss(ignore_index=word2ind['<pad>'])\n",
    "optimizer = torch.optim.Adam(model.parameters())"
   ]
  },
  {
   "cell_type": "code",
   "execution_count": 40,
   "id": "9b1c11dd",
   "metadata": {
    "execution": {
     "iopub.execute_input": "2024-03-19T10:13:07.370139Z",
     "iopub.status.busy": "2024-03-19T10:13:07.369821Z",
     "iopub.status.idle": "2024-03-19T10:54:26.724729Z",
     "shell.execute_reply": "2024-03-19T10:54:26.723785Z"
    },
    "papermill": {
     "duration": 2479.405464,
     "end_time": "2024-03-19T10:54:26.751977",
     "exception": false,
     "start_time": "2024-03-19T10:13:07.346513",
     "status": "completed"
    },
    "tags": []
   },
   "outputs": [
    {
     "name": "stdout",
     "output_type": "stream",
     "text": [
      "Epoch 1: Average Loss = 5.3195, Perplexity = 157.8588\n",
      "Epoch 2: Average Loss = 4.9386, Perplexity = 138.9693\n",
      "Epoch 3: Average Loss = 4.8178, Perplexity = 131.3439\n",
      "Epoch 4: Average Loss = 4.7442, Perplexity = 127.7571\n",
      "Epoch 5: Average Loss = 4.6923, Perplexity = 125.5948\n",
      "Epoch 6: Average Loss = 4.6526, Perplexity = 124.5296\n",
      "Epoch 7: Average Loss = 4.6204, Perplexity = 123.5610\n",
      "Epoch 8: Average Loss = 4.5929, Perplexity = 123.3086\n",
      "Epoch 9: Average Loss = 4.5699, Perplexity = 122.8683\n",
      "Epoch 10: Average Loss = 4.5502, Perplexity = 122.5119\n",
      "Epoch 11: Average Loss = 4.5335, Perplexity = 122.3635\n",
      "Epoch 12: Average Loss = 4.5184, Perplexity = 122.0932\n",
      "Epoch 13: Average Loss = 4.5056, Perplexity = 122.3927\n",
      "Epoch 14: Average Loss = 4.4937, Perplexity = 122.3762\n",
      "Epoch 15: Average Loss = 4.4829, Perplexity = 122.4925\n",
      "Epoch 16: Average Loss = 4.4725, Perplexity = 122.6139\n",
      "Epoch 17: Average Loss = 4.4630, Perplexity = 122.7492\n",
      "Epoch 18: Average Loss = 4.4539, Perplexity = 123.2489\n",
      "Epoch 19: Average Loss = 4.4452, Perplexity = 123.4639\n",
      "Epoch 20: Average Loss = 4.4367, Perplexity = 123.7657\n"
     ]
    }
   ],
   "source": [
    "losses, perplexities = train_model(model, epochs=20)"
   ]
  },
  {
   "cell_type": "code",
   "execution_count": 41,
   "id": "bcd6eb13",
   "metadata": {
    "execution": {
     "iopub.execute_input": "2024-03-19T10:54:26.801207Z",
     "iopub.status.busy": "2024-03-19T10:54:26.800854Z",
     "iopub.status.idle": "2024-03-19T10:54:34.772555Z",
     "shell.execute_reply": "2024-03-19T10:54:34.771624Z"
    },
    "papermill": {
     "duration": 7.998736,
     "end_time": "2024-03-19T10:54:34.774610",
     "exception": false,
     "start_time": "2024-03-19T10:54:26.775874",
     "status": "completed"
    },
    "tags": []
   },
   "outputs": [
    {
     "data": {
      "text/plain": [
       "123.44886458972177"
      ]
     },
     "execution_count": 41,
     "metadata": {},
     "output_type": "execute_result"
    }
   ],
   "source": [
    "evaluate(model, criterion, test_dataloader)"
   ]
  },
  {
   "cell_type": "code",
   "execution_count": 42,
   "id": "a1b3658b",
   "metadata": {
    "execution": {
     "iopub.execute_input": "2024-03-19T10:54:34.823791Z",
     "iopub.status.busy": "2024-03-19T10:54:34.823469Z",
     "iopub.status.idle": "2024-03-19T10:54:34.862669Z",
     "shell.execute_reply": "2024-03-19T10:54:34.861905Z"
    },
    "papermill": {
     "duration": 0.065847,
     "end_time": "2024-03-19T10:54:34.864679",
     "exception": false,
     "start_time": "2024-03-19T10:54:34.798832",
     "status": "completed"
    },
    "tags": []
   },
   "outputs": [],
   "source": [
    "torch.save(model.state_dict(), 'model_state_LanguageModelLayerNorm.pth')\n"
   ]
  },
  {
   "cell_type": "code",
   "execution_count": 43,
   "id": "388d08e5",
   "metadata": {
    "execution": {
     "iopub.execute_input": "2024-03-19T10:54:34.913853Z",
     "iopub.status.busy": "2024-03-19T10:54:34.913538Z",
     "iopub.status.idle": "2024-03-19T10:54:35.253148Z",
     "shell.execute_reply": "2024-03-19T10:54:35.252291Z"
    },
    "papermill": {
     "duration": 0.366467,
     "end_time": "2024-03-19T10:54:35.255177",
     "exception": false,
     "start_time": "2024-03-19T10:54:34.888710",
     "status": "completed"
    },
    "tags": []
   },
   "outputs": [
    {
     "data": {
      "image/png": "[encoded data removed]",
      "text/plain": [
       "<Figure size 640x480 with 1 Axes>"
      ]
     },
     "metadata": {},
     "output_type": "display_data"
    }
   ],
   "source": [
    "plt.plot(np.arange(len(losses)), losses)\n",
    "plt.title('Losses')\n",
    "plt.xlabel(\"epoch\")\n",
    "plt.show()"
   ]
  },
  {
   "cell_type": "code",
   "execution_count": 44,
   "id": "6d4bc9d1",
   "metadata": {
    "execution": {
     "iopub.execute_input": "2024-03-19T10:54:35.305019Z",
     "iopub.status.busy": "2024-03-19T10:54:35.304718Z",
     "iopub.status.idle": "2024-03-19T10:54:35.652101Z",
     "shell.execute_reply": "2024-03-19T10:54:35.651235Z"
    },
    "papermill": {
     "duration": 0.374372,
     "end_time": "2024-03-19T10:54:35.654109",
     "exception": false,
     "start_time": "2024-03-19T10:54:35.279737",
     "status": "completed"
    },
    "tags": []
   },
   "outputs": [
    {
     "data": {
      "image/png": "[encoded data removed]",
      "text/plain": [
       "<Figure size 640x480 with 1 Axes>"
      ]
     },
     "metadata": {},
     "output_type": "display_data"
    }
   ],
   "source": [
    "plt.plot(np.arange(len(perplexities)), perplexities)\n",
    "plt.title('Perplexity')\n",
    "plt.xlabel(\"epoch\")\n",
    "plt.show()"
   ]
  },
  {
   "cell_type": "markdown",
   "id": "ddaada26",
   "metadata": {
    "id": "Y5V9H3eoFeAu",
    "papermill": {
     "duration": 0.025975,
     "end_time": "2024-03-19T10:54:35.705526",
     "exception": false,
     "start_time": "2024-03-19T10:54:35.679551",
     "status": "completed"
    },
    "tags": []
   },
   "source": [
    "### Отчет (2 балла)\n",
    "\n",
    "Опишите проведенные эксперименты. Сравните перплексии полученных моделей. Предложите идеи по улучшению качества моделей."
   ]
  },
  {
   "cell_type": "markdown",
   "id": "a2c6584c",
   "metadata": {
    "id": "M2GCDVeeF8LP",
    "papermill": {
     "duration": 0.024933,
     "end_time": "2024-03-19T10:54:35.755378",
     "exception": false,
     "start_time": "2024-03-19T10:54:35.730445",
     "status": "completed"
    },
    "tags": []
   },
   "source": [
    "Чтобы \"всё работало\":\n",
    "\n",
    "1. уменьшил размер батча до batch_size = 16 (на семинарском 128 был ООМ)\n",
    "2. hidden dim сделал 64\n",
    "3. выкосил в обучении tqdm - в чатике говорили, что из-за него каггл может фризиться\n",
    "\n",
    "попробовал 2 модели: \n",
    "1. \"как в семинаре\" (gru)\n",
    "2. добавил LayerNorm \n",
    "    \n",
    "у первой evaluate на тестовом датасете - 4.700847187153533; Perplexity = 4.6989\n",
    "\n",
    "у второй evaluate на тестовом датасете -    ; Perplexity = 4.4523\n",
    "\n",
    "2-я по преплексити лучше, но насколько это значимо, посмотрю на инференсе (только придумаю, как :-)"
   ]
  },
  {
   "cell_type": "code",
   "execution_count": 45,
   "id": "c00432d3",
   "metadata": {
    "execution": {
     "iopub.execute_input": "2024-03-19T10:54:35.805871Z",
     "iopub.status.busy": "2024-03-19T10:54:35.805527Z",
     "iopub.status.idle": "2024-03-19T10:54:35.810543Z",
     "shell.execute_reply": "2024-03-19T10:54:35.809855Z"
    },
    "papermill": {
     "duration": 0.032214,
     "end_time": "2024-03-19T10:54:35.812272",
     "exception": false,
     "start_time": "2024-03-19T10:54:35.780058",
     "status": "completed"
    },
    "tags": []
   },
   "outputs": [],
   "source": [
    "# model = LanguageModel(hidden_dim=64, vocab_size=len(vocab))  # Параметры должны совпадать с теми, что были использованы при обучении\n",
    "\n",
    "# model.load_state_dict(torch.load('/kaggle/input/my-models-to-check/model_state_LanguageModel.pth'))\n",
    "# model.eval()  # Переводим модель в режим оценки, если собираемся использовать для инференса"
   ]
  },
  {
   "cell_type": "code",
   "execution_count": 46,
   "id": "b3ddb479",
   "metadata": {
    "execution": {
     "iopub.execute_input": "2024-03-19T10:54:35.862576Z",
     "iopub.status.busy": "2024-03-19T10:54:35.862304Z",
     "iopub.status.idle": "2024-03-19T10:54:35.869822Z",
     "shell.execute_reply": "2024-03-19T10:54:35.868983Z"
    },
    "papermill": {
     "duration": 0.034847,
     "end_time": "2024-03-19T10:54:35.871624",
     "exception": false,
     "start_time": "2024-03-19T10:54:35.836777",
     "status": "completed"
    },
    "tags": []
   },
   "outputs": [],
   "source": [
    "def generate_sequence(model, starting_seq: str, max_seq_len: int = 128) -> str:\n",
    "    device = 'cpu'\n",
    "    model = model.to(device)\n",
    "    input_ids = [word2ind['<bos>']] + [\n",
    "        word2ind.get(word, word2ind['<unk>']) for word in starting_seq.split()]\n",
    "    input_ids = torch.LongTensor(input_ids).to(device)\n",
    "    \n",
    "    model.eval()\n",
    "    with torch.no_grad():\n",
    "        for i in range(max_seq_len):\n",
    "            next_char_distribution = model(input_ids)[-1]\n",
    "            next_char = next_char_distribution.squeeze().argmax()\n",
    "            input_ids = torch.cat([input_ids, next_char.unsqueeze(0)])\n",
    "\n",
    "            if next_char.item() == word2ind['<eos>']:\n",
    "                break\n",
    "    \n",
    "    words = ' '.join([ind2word[idx.item()] for idx in input_ids])\n",
    "\n",
    "    return words"
   ]
  },
  {
   "cell_type": "code",
   "execution_count": 47,
   "id": "d21384ca",
   "metadata": {
    "execution": {
     "iopub.execute_input": "2024-03-19T10:54:35.922236Z",
     "iopub.status.busy": "2024-03-19T10:54:35.921984Z",
     "iopub.status.idle": "2024-03-19T10:54:36.019323Z",
     "shell.execute_reply": "2024-03-19T10:54:36.018152Z"
    },
    "papermill": {
     "duration": 0.125091,
     "end_time": "2024-03-19T10:54:36.021314",
     "exception": false,
     "start_time": "2024-03-19T10:54:35.896223",
     "status": "completed"
    },
    "tags": []
   },
   "outputs": [
    {
     "name": "stdout",
     "output_type": "stream",
     "text": [
      "<bos> Who knows ? <eos>\n"
     ]
    }
   ],
   "source": [
    "print(generate_sequence(model, starting_seq=\"Who\"))"
   ]
  }
 ],
 "metadata": {
  "accelerator": "GPU",
  "colab": {
   "provenance": []
  },
  "gpuClass": "standard",
  "kaggle": {
   "accelerator": "gpu",
   "dataSources": [
    {
     "datasetId": 4623935,
     "sourceId": 7878645,
     "sourceType": "datasetVersion"
    }
   ],
   "dockerImageVersionId": 30664,
   "isGpuEnabled": true,
   "isInternetEnabled": true,
   "language": "python",
   "sourceType": "notebook"
  },
  "kernelspec": {
   "display_name": "Python 3",
   "language": "python",
   "name": "python3"
  },
  "language_info": {
   "codemirror_mode": {
    "name": "ipython",
    "version": 3
   },
   "file_extension": ".py",
   "mimetype": "text/x-python",
   "name": "python",
   "nbconvert_exporter": "python",
   "pygments_lexer": "ipython3",
   "version": "3.10.13"
  },
  "papermill": {
   "default_parameters": {},
   "duration": 5093.187862,
   "end_time": "2024-03-19T10:54:38.756650",
   "environment_variables": {},
   "exception": null,
   "input_path": "__notebook__.ipynb",
   "output_path": "__notebook__.ipynb",
   "parameters": {},
   "start_time": "2024-03-19T09:29:45.568788",
   "version": "2.5.0"
  },
  "widgets": {
   "application/vnd.jupyter.widget-state+json": {
    "state": {
     "04b8998f730b4b199853a212201c9f26": {
      "model_module": "@jupyter-widgets/controls",
      "model_module_version": "1.5.0",
      "model_name": "DescriptionStyleModel",
      "state": {
       "_model_module": "@jupyter-widgets/controls",
       "_model_module_version": "1.5.0",
       "_model_name": "DescriptionStyleModel",
       "_view_count": null,
       "_view_module": "@jupyter-widgets/base",
       "_view_module_version": "1.2.0",
       "_view_name": "StyleView",
       "description_width": ""
      }
     },
     "0b056c18a65b4c82ad876d8b6f2a043f": {
      "model_module": "@jupyter-widgets/base",
      "model_module_version": "1.2.0",
      "model_name": "LayoutModel",
      "state": {
       "_model_module": "@jupyter-widgets/base",
       "_model_module_version": "1.2.0",
       "_model_name": "LayoutModel",
       "_view_count": null,
       "_view_module": "@jupyter-widgets/base",
       "_view_module_version": "1.2.0",
       "_view_name": "LayoutView",
       "align_content": null,
       "align_items": null,
       "align_self": null,
       "border": null,
       "bottom": null,
       "display": null,
       "flex": null,
       "flex_flow": null,
       "grid_area": null,
       "grid_auto_columns": null,
       "grid_auto_flow": null,
       "grid_auto_rows": null,
       "grid_column": null,
       "grid_gap": null,
       "grid_row": null,
       "grid_template_areas": null,
       "grid_template_columns": null,
       "grid_template_rows": null,
       "height": null,
       "justify_content": null,
       "justify_items": null,
       "left": null,
       "margin": null,
       "max_height": null,
       "max_width": null,
       "min_height": null,
       "min_width": null,
       "object_fit": null,
       "object_position": null,
       "order": null,
       "overflow": null,
       "overflow_x": null,
       "overflow_y": null,
       "padding": null,
       "right": null,
       "top": null,
       "visibility": null,
       "width": null
      }
     },
     "1730a7f9a5404cd8ab26781d28b3c764": {
      "model_module": "@jupyter-widgets/controls",
      "model_module_version": "1.5.0",
      "model_name": "DescriptionStyleModel",
      "state": {
       "_model_module": "@jupyter-widgets/controls",
       "_model_module_version": "1.5.0",
       "_model_name": "DescriptionStyleModel",
       "_view_count": null,
       "_view_module": "@jupyter-widgets/base",
       "_view_module_version": "1.2.0",
       "_view_name": "StyleView",
       "description_width": ""
      }
     },
     "1a7a427bcefb42e2a014aab7d1b978b0": {
      "model_module": "@jupyter-widgets/controls",
      "model_module_version": "1.5.0",
      "model_name": "FloatProgressModel",
      "state": {
       "_dom_classes": [],
       "_model_module": "@jupyter-widgets/controls",
       "_model_module_version": "1.5.0",
       "_model_name": "FloatProgressModel",
       "_view_count": null,
       "_view_module": "@jupyter-widgets/controls",
       "_view_module_version": "1.5.0",
       "_view_name": "ProgressView",
       "bar_style": "",
       "description": "",
       "description_tooltip": null,
       "layout": "IPY_MODEL_c5c8e00c86f14c639cef685830c45ae5",
       "max": 25000.0,
       "min": 0.0,
       "orientation": "horizontal",
       "style": "IPY_MODEL_76cb988d2f824e7dada204d3ce3bc44b",
       "value": 25000.0
      }
     },
     "1a7e65e832eb463db64f5c1afb768511": {
      "model_module": "@jupyter-widgets/base",
      "model_module_version": "1.2.0",
      "model_name": "LayoutModel",
      "state": {
       "_model_module": "@jupyter-widgets/base",
       "_model_module_version": "1.2.0",
       "_model_name": "LayoutModel",
       "_view_count": null,
       "_view_module": "@jupyter-widgets/base",
       "_view_module_version": "1.2.0",
       "_view_name": "LayoutView",
       "align_content": null,
       "align_items": null,
       "align_self": null,
       "border": null,
       "bottom": null,
       "display": null,
       "flex": null,
       "flex_flow": null,
       "grid_area": null,
       "grid_auto_columns": null,
       "grid_auto_flow": null,
       "grid_auto_rows": null,
       "grid_column": null,
       "grid_gap": null,
       "grid_row": null,
       "grid_template_areas": null,
       "grid_template_columns": null,
       "grid_template_rows": null,
       "height": null,
       "justify_content": null,
       "justify_items": null,
       "left": null,
       "margin": null,
       "max_height": null,
       "max_width": null,
       "min_height": null,
       "min_width": null,
       "object_fit": null,
       "object_position": null,
       "order": null,
       "overflow": null,
       "overflow_x": null,
       "overflow_y": null,
       "padding": null,
       "right": null,
       "top": null,
       "visibility": null,
       "width": null
      }
     },
     "1b19762c4fa44f5f899d4f1641bc66dc": {
      "model_module": "@jupyter-widgets/base",
      "model_module_version": "1.2.0",
      "model_name": "LayoutModel",
      "state": {
       "_model_module": "@jupyter-widgets/base",
       "_model_module_version": "1.2.0",
       "_model_name": "LayoutModel",
       "_view_count": null,
       "_view_module": "@jupyter-widgets/base",
       "_view_module_version": "1.2.0",
       "_view_name": "LayoutView",
       "align_content": null,
       "align_items": null,
       "align_self": null,
       "border": null,
       "bottom": null,
       "display": null,
       "flex": null,
       "flex_flow": null,
       "grid_area": null,
       "grid_auto_columns": null,
       "grid_auto_flow": null,
       "grid_auto_rows": null,
       "grid_column": null,
       "grid_gap": null,
       "grid_row": null,
       "grid_template_areas": null,
       "grid_template_columns": null,
       "grid_template_rows": null,
       "height": null,
       "justify_content": null,
       "justify_items": null,
       "left": null,
       "margin": null,
       "max_height": null,
       "max_width": null,
       "min_height": null,
       "min_width": null,
       "object_fit": null,
       "object_position": null,
       "order": null,
       "overflow": null,
       "overflow_x": null,
       "overflow_y": null,
       "padding": null,
       "right": null,
       "top": null,
       "visibility": null,
       "width": null
      }
     },
     "1cb908d767e94c9f9e2ac71ef7074c51": {
      "model_module": "@jupyter-widgets/controls",
      "model_module_version": "1.5.0",
      "model_name": "HTMLModel",
      "state": {
       "_dom_classes": [],
       "_model_module": "@jupyter-widgets/controls",
       "_model_module_version": "1.5.0",
       "_model_name": "HTMLModel",
       "_view_count": null,
       "_view_module": "@jupyter-widgets/controls",
       "_view_module_version": "1.5.0",
       "_view_name": "HTMLView",
       "description": "",
       "description_tooltip": null,
       "layout": "IPY_MODEL_48afc5320b9c457282a9a291c4508dcf",
       "placeholder": "​",
       "style": "IPY_MODEL_52b38e2286fe4ecc8cb78ba803448e06",
       "value": "100%"
      }
     },
     "1ceb6e2a58b44386847d6c064161981f": {
      "model_module": "@jupyter-widgets/controls",
      "model_module_version": "1.5.0",
      "model_name": "HBoxModel",
      "state": {
       "_dom_classes": [],
       "_model_module": "@jupyter-widgets/controls",
       "_model_module_version": "1.5.0",
       "_model_name": "HBoxModel",
       "_view_count": null,
       "_view_module": "@jupyter-widgets/controls",
       "_view_module_version": "1.5.0",
       "_view_name": "HBoxView",
       "box_style": "",
       "children": [
        "IPY_MODEL_b213862f8fc94ca897965d6726e9b51c",
        "IPY_MODEL_46856a464f014c9791f900df9cd33a08",
        "IPY_MODEL_471f7cf016c94ff3b0e2acc2203c5227"
       ],
       "layout": "IPY_MODEL_b3c370a65fa248268374fb2a62fb10f9"
      }
     },
     "1d38012b0efc4f7d85c0cef91208c3b0": {
      "model_module": "@jupyter-widgets/base",
      "model_module_version": "1.2.0",
      "model_name": "LayoutModel",
      "state": {
       "_model_module": "@jupyter-widgets/base",
       "_model_module_version": "1.2.0",
       "_model_name": "LayoutModel",
       "_view_count": null,
       "_view_module": "@jupyter-widgets/base",
       "_view_module_version": "1.2.0",
       "_view_name": "LayoutView",
       "align_content": null,
       "align_items": null,
       "align_self": null,
       "border": null,
       "bottom": null,
       "display": null,
       "flex": null,
       "flex_flow": null,
       "grid_area": null,
       "grid_auto_columns": null,
       "grid_auto_flow": null,
       "grid_auto_rows": null,
       "grid_column": null,
       "grid_gap": null,
       "grid_row": null,
       "grid_template_areas": null,
       "grid_template_columns": null,
       "grid_template_rows": null,
       "height": null,
       "justify_content": null,
       "justify_items": null,
       "left": null,
       "margin": null,
       "max_height": null,
       "max_width": null,
       "min_height": null,
       "min_width": null,
       "object_fit": null,
       "object_position": null,
       "order": null,
       "overflow": null,
       "overflow_x": null,
       "overflow_y": null,
       "padding": null,
       "right": null,
       "top": null,
       "visibility": null,
       "width": null
      }
     },
     "1ea403ed209845b1892edcc8d5fe9ef3": {
      "model_module": "@jupyter-widgets/controls",
      "model_module_version": "1.5.0",
      "model_name": "HTMLModel",
      "state": {
       "_dom_classes": [],
       "_model_module": "@jupyter-widgets/controls",
       "_model_module_version": "1.5.0",
       "_model_name": "HTMLModel",
       "_view_count": null,
       "_view_module": "@jupyter-widgets/controls",
       "_view_module_version": "1.5.0",
       "_view_name": "HTMLView",
       "description": "",
       "description_tooltip": null,
       "layout": "IPY_MODEL_67c3a365d2904c718b98a60017bacbe1",
       "placeholder": "​",
       "style": "IPY_MODEL_cd568e97d6a34650be172310df6f1227",
       "value": " 4.31k/? [00:00&lt;00:00, 351kB/s]"
      }
     },
     "23adcc00f613487799710030f5e4b80a": {
      "model_module": "@jupyter-widgets/controls",
      "model_module_version": "1.5.0",
      "model_name": "HTMLModel",
      "state": {
       "_dom_classes": [],
       "_model_module": "@jupyter-widgets/controls",
       "_model_module_version": "1.5.0",
       "_model_name": "HTMLModel",
       "_view_count": null,
       "_view_module": "@jupyter-widgets/controls",
       "_view_module_version": "1.5.0",
       "_view_name": "HTMLView",
       "description": "",
       "description_tooltip": null,
       "layout": "IPY_MODEL_e775a64585144437b562cba22f000cb2",
       "placeholder": "​",
       "style": "IPY_MODEL_7ce71e89cc3b40459cbf483b7a2fb5de",
       "value": " 49766/50000 [00:11&lt;00:00, 7294.60 examples/s]"
      }
     },
     "2adc998af0a54ca6b9aef0cf67252230": {
      "model_module": "@jupyter-widgets/controls",
      "model_module_version": "1.5.0",
      "model_name": "DescriptionStyleModel",
      "state": {
       "_model_module": "@jupyter-widgets/controls",
       "_model_module_version": "1.5.0",
       "_model_name": "DescriptionStyleModel",
       "_view_count": null,
       "_view_module": "@jupyter-widgets/base",
       "_view_module_version": "1.2.0",
       "_view_name": "StyleView",
       "description_width": ""
      }
     },
     "2fb642e2edcf4f96948cfb5b690d969b": {
      "model_module": "@jupyter-widgets/base",
      "model_module_version": "1.2.0",
      "model_name": "LayoutModel",
      "state": {
       "_model_module": "@jupyter-widgets/base",
       "_model_module_version": "1.2.0",
       "_model_name": "LayoutModel",
       "_view_count": null,
       "_view_module": "@jupyter-widgets/base",
       "_view_module_version": "1.2.0",
       "_view_name": "LayoutView",
       "align_content": null,
       "align_items": null,
       "align_self": null,
       "border": null,
       "bottom": null,
       "display": null,
       "flex": null,
       "flex_flow": null,
       "grid_area": null,
       "grid_auto_columns": null,
       "grid_auto_flow": null,
       "grid_auto_rows": null,
       "grid_column": null,
       "grid_gap": null,
       "grid_row": null,
       "grid_template_areas": null,
       "grid_template_columns": null,
       "grid_template_rows": null,
       "height": null,
       "justify_content": null,
       "justify_items": null,
       "left": null,
       "margin": null,
       "max_height": null,
       "max_width": null,
       "min_height": null,
       "min_width": null,
       "object_fit": null,
       "object_position": null,
       "order": null,
       "overflow": null,
       "overflow_x": null,
       "overflow_y": null,
       "padding": null,
       "right": null,
       "top": null,
       "visibility": null,
       "width": null
      }
     },
     "2fb8d6bd3a7b4ff286965fc978e65e99": {
      "model_module": "@jupyter-widgets/controls",
      "model_module_version": "1.5.0",
      "model_name": "FloatProgressModel",
      "state": {
       "_dom_classes": [],
       "_model_module": "@jupyter-widgets/controls",
       "_model_module_version": "1.5.0",
       "_model_name": "FloatProgressModel",
       "_view_count": null,
       "_view_module": "@jupyter-widgets/controls",
       "_view_module_version": "1.5.0",
       "_view_name": "ProgressView",
       "bar_style": "success",
       "description": "",
       "description_tooltip": null,
       "layout": "IPY_MODEL_e35441c224b14330ab3cd11ac7deb297",
       "max": 219312.0,
       "min": 0.0,
       "orientation": "horizontal",
       "style": "IPY_MODEL_8d032e85143e49a986dcfeb38f1160f6",
       "value": 219312.0
      }
     },
     "32ff3e789c5147ccb5d23df7f0571f0c": {
      "model_module": "@jupyter-widgets/controls",
      "model_module_version": "1.5.0",
      "model_name": "FloatProgressModel",
      "state": {
       "_dom_classes": [],
       "_model_module": "@jupyter-widgets/controls",
       "_model_module_version": "1.5.0",
       "_model_name": "FloatProgressModel",
       "_view_count": null,
       "_view_module": "@jupyter-widgets/controls",
       "_view_module_version": "1.5.0",
       "_view_name": "ProgressView",
       "bar_style": "success",
       "description": "",
       "description_tooltip": null,
       "layout": "IPY_MODEL_1b19762c4fa44f5f899d4f1641bc66dc",
       "max": 1789.0,
       "min": 0.0,
       "orientation": "horizontal",
       "style": "IPY_MODEL_9743ce1866064f558300cb21109d4aa9",
       "value": 1789.0
      }
     },
     "33758c32cd44415994073bde7b4c4751": {
      "model_module": "@jupyter-widgets/controls",
      "model_module_version": "1.5.0",
      "model_name": "HTMLModel",
      "state": {
       "_dom_classes": [],
       "_model_module": "@jupyter-widgets/controls",
       "_model_module_version": "1.5.0",
       "_model_name": "HTMLModel",
       "_view_count": null,
       "_view_module": "@jupyter-widgets/controls",
       "_view_module_version": "1.5.0",
       "_view_name": "HTMLView",
       "description": "",
       "description_tooltip": null,
       "layout": "IPY_MODEL_378a435dc47a4d4fbbf105e83bf249bd",
       "placeholder": "​",
       "style": "IPY_MODEL_d133395851d5464085ca29884c73788a",
       "value": " 3/3 [00:00&lt;00:00, 147.33it/s]"
      }
     },
     "36fdc2d767d44ac595d86f2e9184cc44": {
      "model_module": "@jupyter-widgets/controls",
      "model_module_version": "1.5.0",
      "model_name": "DescriptionStyleModel",
      "state": {
       "_model_module": "@jupyter-widgets/controls",
       "_model_module_version": "1.5.0",
       "_model_name": "DescriptionStyleModel",
       "_view_count": null,
       "_view_module": "@jupyter-widgets/base",
       "_view_module_version": "1.2.0",
       "_view_name": "StyleView",
       "description_width": ""
      }
     },
     "378a435dc47a4d4fbbf105e83bf249bd": {
      "model_module": "@jupyter-widgets/base",
      "model_module_version": "1.2.0",
      "model_name": "LayoutModel",
      "state": {
       "_model_module": "@jupyter-widgets/base",
       "_model_module_version": "1.2.0",
       "_model_name": "LayoutModel",
       "_view_count": null,
       "_view_module": "@jupyter-widgets/base",
       "_view_module_version": "1.2.0",
       "_view_name": "LayoutView",
       "align_content": null,
       "align_items": null,
       "align_self": null,
       "border": null,
       "bottom": null,
       "display": null,
       "flex": null,
       "flex_flow": null,
       "grid_area": null,
       "grid_auto_columns": null,
       "grid_auto_flow": null,
       "grid_auto_rows": null,
       "grid_column": null,
       "grid_gap": null,
       "grid_row": null,
       "grid_template_areas": null,
       "grid_template_columns": null,
       "grid_template_rows": null,
       "height": null,
       "justify_content": null,
       "justify_items": null,
       "left": null,
       "margin": null,
       "max_height": null,
       "max_width": null,
       "min_height": null,
       "min_width": null,
       "object_fit": null,
       "object_position": null,
       "order": null,
       "overflow": null,
       "overflow_x": null,
       "overflow_y": null,
       "padding": null,
       "right": null,
       "top": null,
       "visibility": null,
       "width": null
      }
     },
     "380a70eaf69e4738867aa1cf53a76f39": {
      "model_module": "@jupyter-widgets/base",
      "model_module_version": "1.2.0",
      "model_name": "LayoutModel",
      "state": {
       "_model_module": "@jupyter-widgets/base",
       "_model_module_version": "1.2.0",
       "_model_name": "LayoutModel",
       "_view_count": null,
       "_view_module": "@jupyter-widgets/base",
       "_view_module_version": "1.2.0",
       "_view_name": "LayoutView",
       "align_content": null,
       "align_items": null,
       "align_self": null,
       "border": null,
       "bottom": null,
       "display": null,
       "flex": null,
       "flex_flow": null,
       "grid_area": null,
       "grid_auto_columns": null,
       "grid_auto_flow": null,
       "grid_auto_rows": null,
       "grid_column": null,
       "grid_gap": null,
       "grid_row": null,
       "grid_template_areas": null,
       "grid_template_columns": null,
       "grid_template_rows": null,
       "height": null,
       "justify_content": null,
       "justify_items": null,
       "left": null,
       "margin": null,
       "max_height": null,
       "max_width": null,
       "min_height": null,
       "min_width": null,
       "object_fit": null,
       "object_position": null,
       "order": null,
       "overflow": null,
       "overflow_x": null,
       "overflow_y": null,
       "padding": null,
       "right": null,
       "top": null,
       "visibility": null,
       "width": null
      }
     },
     "39540088906d40a1a933e6aba09a3136": {
      "model_module": "@jupyter-widgets/controls",
      "model_module_version": "1.5.0",
      "model_name": "HBoxModel",
      "state": {
       "_dom_classes": [],
       "_model_module": "@jupyter-widgets/controls",
       "_model_module_version": "1.5.0",
       "_model_name": "HBoxModel",
       "_view_count": null,
       "_view_module": "@jupyter-widgets/controls",
       "_view_module_version": "1.5.0",
       "_view_name": "HBoxView",
       "box_style": "",
       "children": [
        "IPY_MODEL_79bea0e5df9648fe9882ad7040a4f5b7",
        "IPY_MODEL_ce127785309b4f4593f4a22ec9a461b6",
        "IPY_MODEL_33758c32cd44415994073bde7b4c4751"
       ],
       "layout": "IPY_MODEL_c2470123629d407e826a0a7dc446651e"
      }
     },
     "39e0ba2e9e6647e8a7a4bcb7d0dbfa65": {
      "model_module": "@jupyter-widgets/controls",
      "model_module_version": "1.5.0",
      "model_name": "FloatProgressModel",
      "state": {
       "_dom_classes": [],
       "_model_module": "@jupyter-widgets/controls",
       "_model_module_version": "1.5.0",
       "_model_name": "FloatProgressModel",
       "_view_count": null,
       "_view_module": "@jupyter-widgets/controls",
       "_view_module_version": "1.5.0",
       "_view_name": "ProgressView",
       "bar_style": "success",
       "description": "",
       "description_tooltip": null,
       "layout": "IPY_MODEL_d4cfc5cf4efe42559efff16bdb2410c8",
       "max": 25000.0,
       "min": 0.0,
       "orientation": "horizontal",
       "style": "IPY_MODEL_4c30ea85195440e8a14cbd97d05ddfe9",
       "value": 25000.0
      }
     },
     "3b1df28457114ab5a67c8d0cdda88767": {
      "model_module": "@jupyter-widgets/controls",
      "model_module_version": "1.5.0",
      "model_name": "HTMLModel",
      "state": {
       "_dom_classes": [],
       "_model_module": "@jupyter-widgets/controls",
       "_model_module_version": "1.5.0",
       "_model_name": "HTMLModel",
       "_view_count": null,
       "_view_module": "@jupyter-widgets/controls",
       "_view_module_version": "1.5.0",
       "_view_name": "HTMLView",
       "description": "",
       "description_tooltip": null,
       "layout": "IPY_MODEL_fe95f853bb364f9a8dd6dd321515d39f",
       "placeholder": "​",
       "style": "IPY_MODEL_2adc998af0a54ca6b9aef0cf67252230",
       "value": "Generating test split:  98%"
      }
     },
     "3b974bab8f484e349904992b33a27dae": {
      "model_module": "@jupyter-widgets/controls",
      "model_module_version": "1.5.0",
      "model_name": "HTMLModel",
      "state": {
       "_dom_classes": [],
       "_model_module": "@jupyter-widgets/controls",
       "_model_module_version": "1.5.0",
       "_model_name": "HTMLModel",
       "_view_count": null,
       "_view_module": "@jupyter-widgets/controls",
       "_view_module_version": "1.5.0",
       "_view_name": "HTMLView",
       "description": "",
       "description_tooltip": null,
       "layout": "IPY_MODEL_ba36f558197049ab910617533fbaa988",
       "placeholder": "​",
       "style": "IPY_MODEL_04b8998f730b4b199853a212201c9f26",
       "value": "100%"
      }
     },
     "3c4da845bb0141e48206587f511130c2": {
      "model_module": "@jupyter-widgets/base",
      "model_module_version": "1.2.0",
      "model_name": "LayoutModel",
      "state": {
       "_model_module": "@jupyter-widgets/base",
       "_model_module_version": "1.2.0",
       "_model_name": "LayoutModel",
       "_view_count": null,
       "_view_module": "@jupyter-widgets/base",
       "_view_module_version": "1.2.0",
       "_view_name": "LayoutView",
       "align_content": null,
       "align_items": null,
       "align_self": null,
       "border": null,
       "bottom": null,
       "display": null,
       "flex": null,
       "flex_flow": null,
       "grid_area": null,
       "grid_auto_columns": null,
       "grid_auto_flow": null,
       "grid_auto_rows": null,
       "grid_column": null,
       "grid_gap": null,
       "grid_row": null,
       "grid_template_areas": null,
       "grid_template_columns": null,
       "grid_template_rows": null,
       "height": null,
       "justify_content": null,
       "justify_items": null,
       "left": null,
       "margin": null,
       "max_height": null,
       "max_width": null,
       "min_height": null,
       "min_width": null,
       "object_fit": null,
       "object_position": null,
       "order": null,
       "overflow": null,
       "overflow_x": null,
       "overflow_y": null,
       "padding": null,
       "right": null,
       "top": null,
       "visibility": null,
       "width": null
      }
     },
     "3d4d472c2fdc402eb5df128cbb306eb5": {
      "model_module": "@jupyter-widgets/controls",
      "model_module_version": "1.5.0",
      "model_name": "DescriptionStyleModel",
      "state": {
       "_model_module": "@jupyter-widgets/controls",
       "_model_module_version": "1.5.0",
       "_model_name": "DescriptionStyleModel",
       "_view_count": null,
       "_view_module": "@jupyter-widgets/base",
       "_view_module_version": "1.2.0",
       "_view_name": "StyleView",
       "description_width": ""
      }
     },
     "3f039f32945c47d79d5f04716b8f7706": {
      "model_module": "@jupyter-widgets/controls",
      "model_module_version": "1.5.0",
      "model_name": "DescriptionStyleModel",
      "state": {
       "_model_module": "@jupyter-widgets/controls",
       "_model_module_version": "1.5.0",
       "_model_name": "DescriptionStyleModel",
       "_view_count": null,
       "_view_module": "@jupyter-widgets/base",
       "_view_module_version": "1.2.0",
       "_view_name": "StyleView",
       "description_width": ""
      }
     },
     "42a0fb43dd494c1ea925a5f3b877c9b0": {
      "model_module": "@jupyter-widgets/controls",
      "model_module_version": "1.5.0",
      "model_name": "HTMLModel",
      "state": {
       "_dom_classes": [],
       "_model_module": "@jupyter-widgets/controls",
       "_model_module_version": "1.5.0",
       "_model_name": "HTMLModel",
       "_view_count": null,
       "_view_module": "@jupyter-widgets/controls",
       "_view_module_version": "1.5.0",
       "_view_name": "HTMLView",
       "description": "",
       "description_tooltip": null,
       "layout": "IPY_MODEL_f86c2ac31eef4ff08c2404d7557a72dd",
       "placeholder": "​",
       "style": "IPY_MODEL_a6cc7c3abd204e49a318860e5c7e0b4f",
       "value": "Generating train split:  97%"
      }
     },
     "46856a464f014c9791f900df9cd33a08": {
      "model_module": "@jupyter-widgets/controls",
      "model_module_version": "1.5.0",
      "model_name": "FloatProgressModel",
      "state": {
       "_dom_classes": [],
       "_model_module": "@jupyter-widgets/controls",
       "_model_module_version": "1.5.0",
       "_model_name": "FloatProgressModel",
       "_view_count": null,
       "_view_module": "@jupyter-widgets/controls",
       "_view_module_version": "1.5.0",
       "_view_name": "ProgressView",
       "bar_style": "success",
       "description": "",
       "description_tooltip": null,
       "layout": "IPY_MODEL_3c4da845bb0141e48206587f511130c2",
       "max": 84125825.0,
       "min": 0.0,
       "orientation": "horizontal",
       "style": "IPY_MODEL_e8631284a6104c0f895d43fb07843728",
       "value": 84125825.0
      }
     },
     "471f7cf016c94ff3b0e2acc2203c5227": {
      "model_module": "@jupyter-widgets/controls",
      "model_module_version": "1.5.0",
      "model_name": "HTMLModel",
      "state": {
       "_dom_classes": [],
       "_model_module": "@jupyter-widgets/controls",
       "_model_module_version": "1.5.0",
       "_model_name": "HTMLModel",
       "_view_count": null,
       "_view_module": "@jupyter-widgets/controls",
       "_view_module_version": "1.5.0",
       "_view_name": "HTMLView",
       "description": "",
       "description_tooltip": null,
       "layout": "IPY_MODEL_d05baf587f5041f3ab75576f93a5583b",
       "placeholder": "​",
       "style": "IPY_MODEL_f886ad9beda34784bbdd1fc8311622b1",
       "value": " 84.1M/84.1M [00:12&lt;00:00, 19.0MB/s]"
      }
     },
     "48afc5320b9c457282a9a291c4508dcf": {
      "model_module": "@jupyter-widgets/base",
      "model_module_version": "1.2.0",
      "model_name": "LayoutModel",
      "state": {
       "_model_module": "@jupyter-widgets/base",
       "_model_module_version": "1.2.0",
       "_model_name": "LayoutModel",
       "_view_count": null,
       "_view_module": "@jupyter-widgets/base",
       "_view_module_version": "1.2.0",
       "_view_name": "LayoutView",
       "align_content": null,
       "align_items": null,
       "align_self": null,
       "border": null,
       "bottom": null,
       "display": null,
       "flex": null,
       "flex_flow": null,
       "grid_area": null,
       "grid_auto_columns": null,
       "grid_auto_flow": null,
       "grid_auto_rows": null,
       "grid_column": null,
       "grid_gap": null,
       "grid_row": null,
       "grid_template_areas": null,
       "grid_template_columns": null,
       "grid_template_rows": null,
       "height": null,
       "justify_content": null,
       "justify_items": null,
       "left": null,
       "margin": null,
       "max_height": null,
       "max_width": null,
       "min_height": null,
       "min_width": null,
       "object_fit": null,
       "object_position": null,
       "order": null,
       "overflow": null,
       "overflow_x": null,
       "overflow_y": null,
       "padding": null,
       "right": null,
       "top": null,
       "visibility": null,
       "width": null
      }
     },
     "4949f6ccffd9431382afef8145c48bfc": {
      "model_module": "@jupyter-widgets/base",
      "model_module_version": "1.2.0",
      "model_name": "LayoutModel",
      "state": {
       "_model_module": "@jupyter-widgets/base",
       "_model_module_version": "1.2.0",
       "_model_name": "LayoutModel",
       "_view_count": null,
       "_view_module": "@jupyter-widgets/base",
       "_view_module_version": "1.2.0",
       "_view_name": "LayoutView",
       "align_content": null,
       "align_items": null,
       "align_self": null,
       "border": null,
       "bottom": null,
       "display": null,
       "flex": null,
       "flex_flow": null,
       "grid_area": null,
       "grid_auto_columns": null,
       "grid_auto_flow": null,
       "grid_auto_rows": null,
       "grid_column": null,
       "grid_gap": null,
       "grid_row": null,
       "grid_template_areas": null,
       "grid_template_columns": null,
       "grid_template_rows": null,
       "height": null,
       "justify_content": null,
       "justify_items": null,
       "left": null,
       "margin": null,
       "max_height": null,
       "max_width": null,
       "min_height": null,
       "min_width": null,
       "object_fit": null,
       "object_position": null,
       "order": null,
       "overflow": null,
       "overflow_x": null,
       "overflow_y": null,
       "padding": null,
       "right": null,
       "top": null,
       "visibility": null,
       "width": null
      }
     },
     "4afc527db86241c09ab7fef190dd7689": {
      "model_module": "@jupyter-widgets/controls",
      "model_module_version": "1.5.0",
      "model_name": "DescriptionStyleModel",
      "state": {
       "_model_module": "@jupyter-widgets/controls",
       "_model_module_version": "1.5.0",
       "_model_name": "DescriptionStyleModel",
       "_view_count": null,
       "_view_module": "@jupyter-widgets/base",
       "_view_module_version": "1.2.0",
       "_view_name": "StyleView",
       "description_width": ""
      }
     },
     "4c1cfb5740a544a7acf589dbf73aa310": {
      "model_module": "@jupyter-widgets/base",
      "model_module_version": "1.2.0",
      "model_name": "LayoutModel",
      "state": {
       "_model_module": "@jupyter-widgets/base",
       "_model_module_version": "1.2.0",
       "_model_name": "LayoutModel",
       "_view_count": null,
       "_view_module": "@jupyter-widgets/base",
       "_view_module_version": "1.2.0",
       "_view_name": "LayoutView",
       "align_content": null,
       "align_items": null,
       "align_self": null,
       "border": null,
       "bottom": null,
       "display": null,
       "flex": null,
       "flex_flow": null,
       "grid_area": null,
       "grid_auto_columns": null,
       "grid_auto_flow": null,
       "grid_auto_rows": null,
       "grid_column": null,
       "grid_gap": null,
       "grid_row": null,
       "grid_template_areas": null,
       "grid_template_columns": null,
       "grid_template_rows": null,
       "height": null,
       "justify_content": null,
       "justify_items": null,
       "left": null,
       "margin": null,
       "max_height": null,
       "max_width": null,
       "min_height": null,
       "min_width": null,
       "object_fit": null,
       "object_position": null,
       "order": null,
       "overflow": null,
       "overflow_x": null,
       "overflow_y": null,
       "padding": null,
       "right": null,
       "top": null,
       "visibility": null,
       "width": null
      }
     },
     "4c30ea85195440e8a14cbd97d05ddfe9": {
      "model_module": "@jupyter-widgets/controls",
      "model_module_version": "1.5.0",
      "model_name": "ProgressStyleModel",
      "state": {
       "_model_module": "@jupyter-widgets/controls",
       "_model_module_version": "1.5.0",
       "_model_name": "ProgressStyleModel",
       "_view_count": null,
       "_view_module": "@jupyter-widgets/base",
       "_view_module_version": "1.2.0",
       "_view_name": "StyleView",
       "bar_color": null,
       "description_width": ""
      }
     },
     "4cbb4e3ba46e4b72ad1e80cb75064534": {
      "model_module": "@jupyter-widgets/controls",
      "model_module_version": "1.5.0",
      "model_name": "HTMLModel",
      "state": {
       "_dom_classes": [],
       "_model_module": "@jupyter-widgets/controls",
       "_model_module_version": "1.5.0",
       "_model_name": "HTMLModel",
       "_view_count": null,
       "_view_module": "@jupyter-widgets/controls",
       "_view_module_version": "1.5.0",
       "_view_name": "HTMLView",
       "description": "",
       "description_tooltip": null,
       "layout": "IPY_MODEL_66e4fc18dd7d4cc4b9346bd75b3cdf88",
       "placeholder": "​",
       "style": "IPY_MODEL_d452b178c0604e558f5027bf13315d7c",
       "value": "Downloading builder script: "
      }
     },
     "52b318618c6e4ab9a64233b8682f5396": {
      "model_module": "@jupyter-widgets/controls",
      "model_module_version": "1.5.0",
      "model_name": "HTMLModel",
      "state": {
       "_dom_classes": [],
       "_model_module": "@jupyter-widgets/controls",
       "_model_module_version": "1.5.0",
       "_model_name": "HTMLModel",
       "_view_count": null,
       "_view_module": "@jupyter-widgets/controls",
       "_view_module_version": "1.5.0",
       "_view_name": "HTMLView",
       "description": "",
       "description_tooltip": null,
       "layout": "IPY_MODEL_79443213a51746fcb0b9c2195e42883a",
       "placeholder": "​",
       "style": "IPY_MODEL_4afc527db86241c09ab7fef190dd7689",
       "value": " 219312/219312 [00:48&lt;00:00, 4340.24it/s]"
      }
     },
     "52b38e2286fe4ecc8cb78ba803448e06": {
      "model_module": "@jupyter-widgets/controls",
      "model_module_version": "1.5.0",
      "model_name": "DescriptionStyleModel",
      "state": {
       "_model_module": "@jupyter-widgets/controls",
       "_model_module_version": "1.5.0",
       "_model_name": "DescriptionStyleModel",
       "_view_count": null,
       "_view_module": "@jupyter-widgets/base",
       "_view_module_version": "1.2.0",
       "_view_name": "StyleView",
       "description_width": ""
      }
     },
     "58044c8897cd4f5684b3b816feaa4f23": {
      "model_module": "@jupyter-widgets/controls",
      "model_module_version": "1.5.0",
      "model_name": "HBoxModel",
      "state": {
       "_dom_classes": [],
       "_model_module": "@jupyter-widgets/controls",
       "_model_module_version": "1.5.0",
       "_model_name": "HBoxModel",
       "_view_count": null,
       "_view_module": "@jupyter-widgets/controls",
       "_view_module_version": "1.5.0",
       "_view_name": "HBoxView",
       "box_style": "",
       "children": [
        "IPY_MODEL_3b1df28457114ab5a67c8d0cdda88767",
        "IPY_MODEL_957ed20c1f104f109c87f0914cdbdf46",
        "IPY_MODEL_e4f08d818daa44f097079ac6beb68f61"
       ],
       "layout": "IPY_MODEL_791ba82af33343a0a1107aa7855e5b10"
      }
     },
     "60c78523899245378a821eaace8802fa": {
      "model_module": "@jupyter-widgets/controls",
      "model_module_version": "1.5.0",
      "model_name": "ProgressStyleModel",
      "state": {
       "_model_module": "@jupyter-widgets/controls",
       "_model_module_version": "1.5.0",
       "_model_name": "ProgressStyleModel",
       "_view_count": null,
       "_view_module": "@jupyter-widgets/base",
       "_view_module_version": "1.2.0",
       "_view_name": "StyleView",
       "bar_color": null,
       "description_width": ""
      }
     },
     "60d2848c54a74291840ca48597297cdd": {
      "model_module": "@jupyter-widgets/controls",
      "model_module_version": "1.5.0",
      "model_name": "FloatProgressModel",
      "state": {
       "_dom_classes": [],
       "_model_module": "@jupyter-widgets/controls",
       "_model_module_version": "1.5.0",
       "_model_name": "FloatProgressModel",
       "_view_count": null,
       "_view_module": "@jupyter-widgets/controls",
       "_view_module_version": "1.5.0",
       "_view_name": "ProgressView",
       "bar_style": "success",
       "description": "",
       "description_tooltip": null,
       "layout": "IPY_MODEL_847326a16eee46568d375604ad6f19b4",
       "max": 1054.0,
       "min": 0.0,
       "orientation": "horizontal",
       "style": "IPY_MODEL_8bf023a3ae634c1083ec28fea76de5e9",
       "value": 1054.0
      }
     },
     "64860de6c0e24f4ba73ff69b8c9ef4f7": {
      "model_module": "@jupyter-widgets/base",
      "model_module_version": "1.2.0",
      "model_name": "LayoutModel",
      "state": {
       "_model_module": "@jupyter-widgets/base",
       "_model_module_version": "1.2.0",
       "_model_name": "LayoutModel",
       "_view_count": null,
       "_view_module": "@jupyter-widgets/base",
       "_view_module_version": "1.2.0",
       "_view_name": "LayoutView",
       "align_content": null,
       "align_items": null,
       "align_self": null,
       "border": null,
       "bottom": null,
       "display": null,
       "flex": null,
       "flex_flow": null,
       "grid_area": null,
       "grid_auto_columns": null,
       "grid_auto_flow": null,
       "grid_auto_rows": null,
       "grid_column": null,
       "grid_gap": null,
       "grid_row": null,
       "grid_template_areas": null,
       "grid_template_columns": null,
       "grid_template_rows": null,
       "height": null,
       "justify_content": null,
       "justify_items": null,
       "left": null,
       "margin": null,
       "max_height": null,
       "max_width": null,
       "min_height": null,
       "min_width": null,
       "object_fit": null,
       "object_position": null,
       "order": null,
       "overflow": null,
       "overflow_x": null,
       "overflow_y": null,
       "padding": null,
       "right": null,
       "top": null,
       "visibility": null,
       "width": null
      }
     },
     "66e4fc18dd7d4cc4b9346bd75b3cdf88": {
      "model_module": "@jupyter-widgets/base",
      "model_module_version": "1.2.0",
      "model_name": "LayoutModel",
      "state": {
       "_model_module": "@jupyter-widgets/base",
       "_model_module_version": "1.2.0",
       "_model_name": "LayoutModel",
       "_view_count": null,
       "_view_module": "@jupyter-widgets/base",
       "_view_module_version": "1.2.0",
       "_view_name": "LayoutView",
       "align_content": null,
       "align_items": null,
       "align_self": null,
       "border": null,
       "bottom": null,
       "display": null,
       "flex": null,
       "flex_flow": null,
       "grid_area": null,
       "grid_auto_columns": null,
       "grid_auto_flow": null,
       "grid_auto_rows": null,
       "grid_column": null,
       "grid_gap": null,
       "grid_row": null,
       "grid_template_areas": null,
       "grid_template_columns": null,
       "grid_template_rows": null,
       "height": null,
       "justify_content": null,
       "justify_items": null,
       "left": null,
       "margin": null,
       "max_height": null,
       "max_width": null,
       "min_height": null,
       "min_width": null,
       "object_fit": null,
       "object_position": null,
       "order": null,
       "overflow": null,
       "overflow_x": null,
       "overflow_y": null,
       "padding": null,
       "right": null,
       "top": null,
       "visibility": null,
       "width": null
      }
     },
     "67c3a365d2904c718b98a60017bacbe1": {
      "model_module": "@jupyter-widgets/base",
      "model_module_version": "1.2.0",
      "model_name": "LayoutModel",
      "state": {
       "_model_module": "@jupyter-widgets/base",
       "_model_module_version": "1.2.0",
       "_model_name": "LayoutModel",
       "_view_count": null,
       "_view_module": "@jupyter-widgets/base",
       "_view_module_version": "1.2.0",
       "_view_name": "LayoutView",
       "align_content": null,
       "align_items": null,
       "align_self": null,
       "border": null,
       "bottom": null,
       "display": null,
       "flex": null,
       "flex_flow": null,
       "grid_area": null,
       "grid_auto_columns": null,
       "grid_auto_flow": null,
       "grid_auto_rows": null,
       "grid_column": null,
       "grid_gap": null,
       "grid_row": null,
       "grid_template_areas": null,
       "grid_template_columns": null,
       "grid_template_rows": null,
       "height": null,
       "justify_content": null,
       "justify_items": null,
       "left": null,
       "margin": null,
       "max_height": null,
       "max_width": null,
       "min_height": null,
       "min_width": null,
       "object_fit": null,
       "object_position": null,
       "order": null,
       "overflow": null,
       "overflow_x": null,
       "overflow_y": null,
       "padding": null,
       "right": null,
       "top": null,
       "visibility": null,
       "width": null
      }
     },
     "6a6192f4e27e4c2a8d8121b258914c0e": {
      "model_module": "@jupyter-widgets/controls",
      "model_module_version": "1.5.0",
      "model_name": "FloatProgressModel",
      "state": {
       "_dom_classes": [],
       "_model_module": "@jupyter-widgets/controls",
       "_model_module_version": "1.5.0",
       "_model_name": "FloatProgressModel",
       "_view_count": null,
       "_view_module": "@jupyter-widgets/controls",
       "_view_module_version": "1.5.0",
       "_view_name": "ProgressView",
       "bar_style": "",
       "description": "",
       "description_tooltip": null,
       "layout": "IPY_MODEL_2fb642e2edcf4f96948cfb5b690d969b",
       "max": 50000.0,
       "min": 0.0,
       "orientation": "horizontal",
       "style": "IPY_MODEL_e926e5c0c3c04ce7b760c3333b621521",
       "value": 50000.0
      }
     },
     "6d0a03960a904859b89e8f735218eef4": {
      "model_module": "@jupyter-widgets/base",
      "model_module_version": "1.2.0",
      "model_name": "LayoutModel",
      "state": {
       "_model_module": "@jupyter-widgets/base",
       "_model_module_version": "1.2.0",
       "_model_name": "LayoutModel",
       "_view_count": null,
       "_view_module": "@jupyter-widgets/base",
       "_view_module_version": "1.2.0",
       "_view_name": "LayoutView",
       "align_content": null,
       "align_items": null,
       "align_self": null,
       "border": null,
       "bottom": null,
       "display": null,
       "flex": null,
       "flex_flow": null,
       "grid_area": null,
       "grid_auto_columns": null,
       "grid_auto_flow": null,
       "grid_auto_rows": null,
       "grid_column": null,
       "grid_gap": null,
       "grid_row": null,
       "grid_template_areas": null,
       "grid_template_columns": null,
       "grid_template_rows": null,
       "height": null,
       "justify_content": null,
       "justify_items": null,
       "left": null,
       "margin": null,
       "max_height": null,
       "max_width": null,
       "min_height": null,
       "min_width": null,
       "object_fit": null,
       "object_position": null,
       "order": null,
       "overflow": null,
       "overflow_x": null,
       "overflow_y": null,
       "padding": null,
       "right": null,
       "top": null,
       "visibility": null,
       "width": null
      }
     },
     "7545776f63d148bdb0c1e359217609e0": {
      "model_module": "@jupyter-widgets/controls",
      "model_module_version": "1.5.0",
      "model_name": "HBoxModel",
      "state": {
       "_dom_classes": [],
       "_model_module": "@jupyter-widgets/controls",
       "_model_module_version": "1.5.0",
       "_model_name": "HBoxModel",
       "_view_count": null,
       "_view_module": "@jupyter-widgets/controls",
       "_view_module_version": "1.5.0",
       "_view_name": "HBoxView",
       "box_style": "",
       "children": [
        "IPY_MODEL_42a0fb43dd494c1ea925a5f3b877c9b0",
        "IPY_MODEL_1a7a427bcefb42e2a014aab7d1b978b0",
        "IPY_MODEL_db9f2823d40d4591b931cdd0f952e920"
       ],
       "layout": "IPY_MODEL_7edfaad9b73b4a7b8c5649832b0b1754"
      }
     },
     "76cb988d2f824e7dada204d3ce3bc44b": {
      "model_module": "@jupyter-widgets/controls",
      "model_module_version": "1.5.0",
      "model_name": "ProgressStyleModel",
      "state": {
       "_model_module": "@jupyter-widgets/controls",
       "_model_module_version": "1.5.0",
       "_model_name": "ProgressStyleModel",
       "_view_count": null,
       "_view_module": "@jupyter-widgets/base",
       "_view_module_version": "1.2.0",
       "_view_name": "StyleView",
       "bar_color": null,
       "description_width": ""
      }
     },
     "78d23df9630a44b382e0655093dab232": {
      "model_module": "@jupyter-widgets/controls",
      "model_module_version": "1.5.0",
      "model_name": "HBoxModel",
      "state": {
       "_dom_classes": [],
       "_model_module": "@jupyter-widgets/controls",
       "_model_module_version": "1.5.0",
       "_model_name": "HBoxModel",
       "_view_count": null,
       "_view_module": "@jupyter-widgets/controls",
       "_view_module_version": "1.5.0",
       "_view_name": "HBoxView",
       "box_style": "",
       "children": [
        "IPY_MODEL_91fc004f305846a9b577011a692c40a0",
        "IPY_MODEL_60d2848c54a74291840ca48597297cdd",
        "IPY_MODEL_f7d2ac4266af4072bb3f1dca873498bf"
       ],
       "layout": "IPY_MODEL_64860de6c0e24f4ba73ff69b8c9ef4f7"
      }
     },
     "791ba82af33343a0a1107aa7855e5b10": {
      "model_module": "@jupyter-widgets/base",
      "model_module_version": "1.2.0",
      "model_name": "LayoutModel",
      "state": {
       "_model_module": "@jupyter-widgets/base",
       "_model_module_version": "1.2.0",
       "_model_name": "LayoutModel",
       "_view_count": null,
       "_view_module": "@jupyter-widgets/base",
       "_view_module_version": "1.2.0",
       "_view_name": "LayoutView",
       "align_content": null,
       "align_items": null,
       "align_self": null,
       "border": null,
       "bottom": null,
       "display": null,
       "flex": null,
       "flex_flow": null,
       "grid_area": null,
       "grid_auto_columns": null,
       "grid_auto_flow": null,
       "grid_auto_rows": null,
       "grid_column": null,
       "grid_gap": null,
       "grid_row": null,
       "grid_template_areas": null,
       "grid_template_columns": null,
       "grid_template_rows": null,
       "height": null,
       "justify_content": null,
       "justify_items": null,
       "left": null,
       "margin": null,
       "max_height": null,
       "max_width": null,
       "min_height": null,
       "min_width": null,
       "object_fit": null,
       "object_position": null,
       "order": null,
       "overflow": null,
       "overflow_x": null,
       "overflow_y": null,
       "padding": null,
       "right": null,
       "top": null,
       "visibility": "hidden",
       "width": null
      }
     },
     "79443213a51746fcb0b9c2195e42883a": {
      "model_module": "@jupyter-widgets/base",
      "model_module_version": "1.2.0",
      "model_name": "LayoutModel",
      "state": {
       "_model_module": "@jupyter-widgets/base",
       "_model_module_version": "1.2.0",
       "_model_name": "LayoutModel",
       "_view_count": null,
       "_view_module": "@jupyter-widgets/base",
       "_view_module_version": "1.2.0",
       "_view_name": "LayoutView",
       "align_content": null,
       "align_items": null,
       "align_self": null,
       "border": null,
       "bottom": null,
       "display": null,
       "flex": null,
       "flex_flow": null,
       "grid_area": null,
       "grid_auto_columns": null,
       "grid_auto_flow": null,
       "grid_auto_rows": null,
       "grid_column": null,
       "grid_gap": null,
       "grid_row": null,
       "grid_template_areas": null,
       "grid_template_columns": null,
       "grid_template_rows": null,
       "height": null,
       "justify_content": null,
       "justify_items": null,
       "left": null,
       "margin": null,
       "max_height": null,
       "max_width": null,
       "min_height": null,
       "min_width": null,
       "object_fit": null,
       "object_position": null,
       "order": null,
       "overflow": null,
       "overflow_x": null,
       "overflow_y": null,
       "padding": null,
       "right": null,
       "top": null,
       "visibility": null,
       "width": null
      }
     },
     "79bea0e5df9648fe9882ad7040a4f5b7": {
      "model_module": "@jupyter-widgets/controls",
      "model_module_version": "1.5.0",
      "model_name": "HTMLModel",
      "state": {
       "_dom_classes": [],
       "_model_module": "@jupyter-widgets/controls",
       "_model_module_version": "1.5.0",
       "_model_name": "HTMLModel",
       "_view_count": null,
       "_view_module": "@jupyter-widgets/controls",
       "_view_module_version": "1.5.0",
       "_view_name": "HTMLView",
       "description": "",
       "description_tooltip": null,
       "layout": "IPY_MODEL_1d38012b0efc4f7d85c0cef91208c3b0",
       "placeholder": "​",
       "style": "IPY_MODEL_36fdc2d767d44ac595d86f2e9184cc44",
       "value": "100%"
      }
     },
     "7ce71e89cc3b40459cbf483b7a2fb5de": {
      "model_module": "@jupyter-widgets/controls",
      "model_module_version": "1.5.0",
      "model_name": "DescriptionStyleModel",
      "state": {
       "_model_module": "@jupyter-widgets/controls",
       "_model_module_version": "1.5.0",
       "_model_name": "DescriptionStyleModel",
       "_view_count": null,
       "_view_module": "@jupyter-widgets/base",
       "_view_module_version": "1.2.0",
       "_view_name": "StyleView",
       "description_width": ""
      }
     },
     "7d1c8e5b03ff4b89bcf0319bcf74afad": {
      "model_module": "@jupyter-widgets/controls",
      "model_module_version": "1.5.0",
      "model_name": "ProgressStyleModel",
      "state": {
       "_model_module": "@jupyter-widgets/controls",
       "_model_module_version": "1.5.0",
       "_model_name": "ProgressStyleModel",
       "_view_count": null,
       "_view_module": "@jupyter-widgets/base",
       "_view_module_version": "1.2.0",
       "_view_name": "StyleView",
       "bar_color": null,
       "description_width": ""
      }
     },
     "7edfaad9b73b4a7b8c5649832b0b1754": {
      "model_module": "@jupyter-widgets/base",
      "model_module_version": "1.2.0",
      "model_name": "LayoutModel",
      "state": {
       "_model_module": "@jupyter-widgets/base",
       "_model_module_version": "1.2.0",
       "_model_name": "LayoutModel",
       "_view_count": null,
       "_view_module": "@jupyter-widgets/base",
       "_view_module_version": "1.2.0",
       "_view_name": "LayoutView",
       "align_content": null,
       "align_items": null,
       "align_self": null,
       "border": null,
       "bottom": null,
       "display": null,
       "flex": null,
       "flex_flow": null,
       "grid_area": null,
       "grid_auto_columns": null,
       "grid_auto_flow": null,
       "grid_auto_rows": null,
       "grid_column": null,
       "grid_gap": null,
       "grid_row": null,
       "grid_template_areas": null,
       "grid_template_columns": null,
       "grid_template_rows": null,
       "height": null,
       "justify_content": null,
       "justify_items": null,
       "left": null,
       "margin": null,
       "max_height": null,
       "max_width": null,
       "min_height": null,
       "min_width": null,
       "object_fit": null,
       "object_position": null,
       "order": null,
       "overflow": null,
       "overflow_x": null,
       "overflow_y": null,
       "padding": null,
       "right": null,
       "top": null,
       "visibility": "hidden",
       "width": null
      }
     },
     "84321260dd1c4717be29a64c3ea45536": {
      "model_module": "@jupyter-widgets/controls",
      "model_module_version": "1.5.0",
      "model_name": "DescriptionStyleModel",
      "state": {
       "_model_module": "@jupyter-widgets/controls",
       "_model_module_version": "1.5.0",
       "_model_name": "DescriptionStyleModel",
       "_view_count": null,
       "_view_module": "@jupyter-widgets/base",
       "_view_module_version": "1.2.0",
       "_view_name": "StyleView",
       "description_width": ""
      }
     },
     "845d61d6a44149f189d3c167d1c5d3c3": {
      "model_module": "@jupyter-widgets/controls",
      "model_module_version": "1.5.0",
      "model_name": "DescriptionStyleModel",
      "state": {
       "_model_module": "@jupyter-widgets/controls",
       "_model_module_version": "1.5.0",
       "_model_name": "DescriptionStyleModel",
       "_view_count": null,
       "_view_module": "@jupyter-widgets/base",
       "_view_module_version": "1.2.0",
       "_view_name": "StyleView",
       "description_width": ""
      }
     },
     "847326a16eee46568d375604ad6f19b4": {
      "model_module": "@jupyter-widgets/base",
      "model_module_version": "1.2.0",
      "model_name": "LayoutModel",
      "state": {
       "_model_module": "@jupyter-widgets/base",
       "_model_module_version": "1.2.0",
       "_model_name": "LayoutModel",
       "_view_count": null,
       "_view_module": "@jupyter-widgets/base",
       "_view_module_version": "1.2.0",
       "_view_name": "LayoutView",
       "align_content": null,
       "align_items": null,
       "align_self": null,
       "border": null,
       "bottom": null,
       "display": null,
       "flex": null,
       "flex_flow": null,
       "grid_area": null,
       "grid_auto_columns": null,
       "grid_auto_flow": null,
       "grid_auto_rows": null,
       "grid_column": null,
       "grid_gap": null,
       "grid_row": null,
       "grid_template_areas": null,
       "grid_template_columns": null,
       "grid_template_rows": null,
       "height": null,
       "justify_content": null,
       "justify_items": null,
       "left": null,
       "margin": null,
       "max_height": null,
       "max_width": null,
       "min_height": null,
       "min_width": null,
       "object_fit": null,
       "object_position": null,
       "order": null,
       "overflow": null,
       "overflow_x": null,
       "overflow_y": null,
       "padding": null,
       "right": null,
       "top": null,
       "visibility": null,
       "width": null
      }
     },
     "8bf023a3ae634c1083ec28fea76de5e9": {
      "model_module": "@jupyter-widgets/controls",
      "model_module_version": "1.5.0",
      "model_name": "ProgressStyleModel",
      "state": {
       "_model_module": "@jupyter-widgets/controls",
       "_model_module_version": "1.5.0",
       "_model_name": "ProgressStyleModel",
       "_view_count": null,
       "_view_module": "@jupyter-widgets/base",
       "_view_module_version": "1.2.0",
       "_view_name": "StyleView",
       "bar_color": null,
       "description_width": ""
      }
     },
     "8d032e85143e49a986dcfeb38f1160f6": {
      "model_module": "@jupyter-widgets/controls",
      "model_module_version": "1.5.0",
      "model_name": "ProgressStyleModel",
      "state": {
       "_model_module": "@jupyter-widgets/controls",
       "_model_module_version": "1.5.0",
       "_model_name": "ProgressStyleModel",
       "_view_count": null,
       "_view_module": "@jupyter-widgets/base",
       "_view_module_version": "1.2.0",
       "_view_name": "StyleView",
       "bar_color": null,
       "description_width": ""
      }
     },
     "91fc004f305846a9b577011a692c40a0": {
      "model_module": "@jupyter-widgets/controls",
      "model_module_version": "1.5.0",
      "model_name": "HTMLModel",
      "state": {
       "_dom_classes": [],
       "_model_module": "@jupyter-widgets/controls",
       "_model_module_version": "1.5.0",
       "_model_name": "HTMLModel",
       "_view_count": null,
       "_view_module": "@jupyter-widgets/controls",
       "_view_module_version": "1.5.0",
       "_view_name": "HTMLView",
       "description": "",
       "description_tooltip": null,
       "layout": "IPY_MODEL_b63c894768804041b832046a800e8ce6",
       "placeholder": "​",
       "style": "IPY_MODEL_84321260dd1c4717be29a64c3ea45536",
       "value": "Downloading metadata: "
      }
     },
     "940d842f56494fe1b6f89ca32d108bdd": {
      "model_module": "@jupyter-widgets/base",
      "model_module_version": "1.2.0",
      "model_name": "LayoutModel",
      "state": {
       "_model_module": "@jupyter-widgets/base",
       "_model_module_version": "1.2.0",
       "_model_name": "LayoutModel",
       "_view_count": null,
       "_view_module": "@jupyter-widgets/base",
       "_view_module_version": "1.2.0",
       "_view_name": "LayoutView",
       "align_content": null,
       "align_items": null,
       "align_self": null,
       "border": null,
       "bottom": null,
       "display": null,
       "flex": null,
       "flex_flow": null,
       "grid_area": null,
       "grid_auto_columns": null,
       "grid_auto_flow": null,
       "grid_auto_rows": null,
       "grid_column": null,
       "grid_gap": null,
       "grid_row": null,
       "grid_template_areas": null,
       "grid_template_columns": null,
       "grid_template_rows": null,
       "height": null,
       "justify_content": null,
       "justify_items": null,
       "left": null,
       "margin": null,
       "max_height": null,
       "max_width": null,
       "min_height": null,
       "min_width": null,
       "object_fit": null,
       "object_position": null,
       "order": null,
       "overflow": null,
       "overflow_x": null,
       "overflow_y": null,
       "padding": null,
       "right": null,
       "top": null,
       "visibility": null,
       "width": null
      }
     },
     "957ed20c1f104f109c87f0914cdbdf46": {
      "model_module": "@jupyter-widgets/controls",
      "model_module_version": "1.5.0",
      "model_name": "FloatProgressModel",
      "state": {
       "_dom_classes": [],
       "_model_module": "@jupyter-widgets/controls",
       "_model_module_version": "1.5.0",
       "_model_name": "FloatProgressModel",
       "_view_count": null,
       "_view_module": "@jupyter-widgets/controls",
       "_view_module_version": "1.5.0",
       "_view_name": "ProgressView",
       "bar_style": "",
       "description": "",
       "description_tooltip": null,
       "layout": "IPY_MODEL_dd1869c1657f4aacbae3678db6a727f0",
       "max": 25000.0,
       "min": 0.0,
       "orientation": "horizontal",
       "style": "IPY_MODEL_7d1c8e5b03ff4b89bcf0319bcf74afad",
       "value": 25000.0
      }
     },
     "96ef5a6aad204d42808adcfa4fd4cd65": {
      "model_module": "@jupyter-widgets/controls",
      "model_module_version": "1.5.0",
      "model_name": "HBoxModel",
      "state": {
       "_dom_classes": [],
       "_model_module": "@jupyter-widgets/controls",
       "_model_module_version": "1.5.0",
       "_model_name": "HBoxModel",
       "_view_count": null,
       "_view_module": "@jupyter-widgets/controls",
       "_view_module_version": "1.5.0",
       "_view_name": "HBoxView",
       "box_style": "",
       "children": [
        "IPY_MODEL_3b974bab8f484e349904992b33a27dae",
        "IPY_MODEL_2fb8d6bd3a7b4ff286965fc978e65e99",
        "IPY_MODEL_52b318618c6e4ab9a64233b8682f5396"
       ],
       "layout": "IPY_MODEL_6d0a03960a904859b89e8f735218eef4"
      }
     },
     "9743ce1866064f558300cb21109d4aa9": {
      "model_module": "@jupyter-widgets/controls",
      "model_module_version": "1.5.0",
      "model_name": "ProgressStyleModel",
      "state": {
       "_model_module": "@jupyter-widgets/controls",
       "_model_module_version": "1.5.0",
       "_model_name": "ProgressStyleModel",
       "_view_count": null,
       "_view_module": "@jupyter-widgets/base",
       "_view_module_version": "1.2.0",
       "_view_name": "StyleView",
       "bar_color": null,
       "description_width": ""
      }
     },
     "a2f548e33544497095133fea58484f4e": {
      "model_module": "@jupyter-widgets/base",
      "model_module_version": "1.2.0",
      "model_name": "LayoutModel",
      "state": {
       "_model_module": "@jupyter-widgets/base",
       "_model_module_version": "1.2.0",
       "_model_name": "LayoutModel",
       "_view_count": null,
       "_view_module": "@jupyter-widgets/base",
       "_view_module_version": "1.2.0",
       "_view_name": "LayoutView",
       "align_content": null,
       "align_items": null,
       "align_self": null,
       "border": null,
       "bottom": null,
       "display": null,
       "flex": null,
       "flex_flow": null,
       "grid_area": null,
       "grid_auto_columns": null,
       "grid_auto_flow": null,
       "grid_auto_rows": null,
       "grid_column": null,
       "grid_gap": null,
       "grid_row": null,
       "grid_template_areas": null,
       "grid_template_columns": null,
       "grid_template_rows": null,
       "height": null,
       "justify_content": null,
       "justify_items": null,
       "left": null,
       "margin": null,
       "max_height": null,
       "max_width": null,
       "min_height": null,
       "min_width": null,
       "object_fit": null,
       "object_position": null,
       "order": null,
       "overflow": null,
       "overflow_x": null,
       "overflow_y": null,
       "padding": null,
       "right": null,
       "top": null,
       "visibility": null,
       "width": null
      }
     },
     "a6cc7c3abd204e49a318860e5c7e0b4f": {
      "model_module": "@jupyter-widgets/controls",
      "model_module_version": "1.5.0",
      "model_name": "DescriptionStyleModel",
      "state": {
       "_model_module": "@jupyter-widgets/controls",
       "_model_module_version": "1.5.0",
       "_model_name": "DescriptionStyleModel",
       "_view_count": null,
       "_view_module": "@jupyter-widgets/base",
       "_view_module_version": "1.2.0",
       "_view_name": "StyleView",
       "description_width": ""
      }
     },
     "aa41ec7396364ffa8ef85f022bd092dc": {
      "model_module": "@jupyter-widgets/base",
      "model_module_version": "1.2.0",
      "model_name": "LayoutModel",
      "state": {
       "_model_module": "@jupyter-widgets/base",
       "_model_module_version": "1.2.0",
       "_model_name": "LayoutModel",
       "_view_count": null,
       "_view_module": "@jupyter-widgets/base",
       "_view_module_version": "1.2.0",
       "_view_name": "LayoutView",
       "align_content": null,
       "align_items": null,
       "align_self": null,
       "border": null,
       "bottom": null,
       "display": null,
       "flex": null,
       "flex_flow": null,
       "grid_area": null,
       "grid_auto_columns": null,
       "grid_auto_flow": null,
       "grid_auto_rows": null,
       "grid_column": null,
       "grid_gap": null,
       "grid_row": null,
       "grid_template_areas": null,
       "grid_template_columns": null,
       "grid_template_rows": null,
       "height": null,
       "justify_content": null,
       "justify_items": null,
       "left": null,
       "margin": null,
       "max_height": null,
       "max_width": null,
       "min_height": null,
       "min_width": null,
       "object_fit": null,
       "object_position": null,
       "order": null,
       "overflow": null,
       "overflow_x": null,
       "overflow_y": null,
       "padding": null,
       "right": null,
       "top": null,
       "visibility": null,
       "width": null
      }
     },
     "b213862f8fc94ca897965d6726e9b51c": {
      "model_module": "@jupyter-widgets/controls",
      "model_module_version": "1.5.0",
      "model_name": "HTMLModel",
      "state": {
       "_dom_classes": [],
       "_model_module": "@jupyter-widgets/controls",
       "_model_module_version": "1.5.0",
       "_model_name": "HTMLModel",
       "_view_count": null,
       "_view_module": "@jupyter-widgets/controls",
       "_view_module_version": "1.5.0",
       "_view_name": "HTMLView",
       "description": "",
       "description_tooltip": null,
       "layout": "IPY_MODEL_1a7e65e832eb463db64f5c1afb768511",
       "placeholder": "​",
       "style": "IPY_MODEL_3d4d472c2fdc402eb5df128cbb306eb5",
       "value": "Downloading data: 100%"
      }
     },
     "b3c370a65fa248268374fb2a62fb10f9": {
      "model_module": "@jupyter-widgets/base",
      "model_module_version": "1.2.0",
      "model_name": "LayoutModel",
      "state": {
       "_model_module": "@jupyter-widgets/base",
       "_model_module_version": "1.2.0",
       "_model_name": "LayoutModel",
       "_view_count": null,
       "_view_module": "@jupyter-widgets/base",
       "_view_module_version": "1.2.0",
       "_view_name": "LayoutView",
       "align_content": null,
       "align_items": null,
       "align_self": null,
       "border": null,
       "bottom": null,
       "display": null,
       "flex": null,
       "flex_flow": null,
       "grid_area": null,
       "grid_auto_columns": null,
       "grid_auto_flow": null,
       "grid_auto_rows": null,
       "grid_column": null,
       "grid_gap": null,
       "grid_row": null,
       "grid_template_areas": null,
       "grid_template_columns": null,
       "grid_template_rows": null,
       "height": null,
       "justify_content": null,
       "justify_items": null,
       "left": null,
       "margin": null,
       "max_height": null,
       "max_width": null,
       "min_height": null,
       "min_width": null,
       "object_fit": null,
       "object_position": null,
       "order": null,
       "overflow": null,
       "overflow_x": null,
       "overflow_y": null,
       "padding": null,
       "right": null,
       "top": null,
       "visibility": null,
       "width": null
      }
     },
     "b63c894768804041b832046a800e8ce6": {
      "model_module": "@jupyter-widgets/base",
      "model_module_version": "1.2.0",
      "model_name": "LayoutModel",
      "state": {
       "_model_module": "@jupyter-widgets/base",
       "_model_module_version": "1.2.0",
       "_model_name": "LayoutModel",
       "_view_count": null,
       "_view_module": "@jupyter-widgets/base",
       "_view_module_version": "1.2.0",
       "_view_name": "LayoutView",
       "align_content": null,
       "align_items": null,
       "align_self": null,
       "border": null,
       "bottom": null,
       "display": null,
       "flex": null,
       "flex_flow": null,
       "grid_area": null,
       "grid_auto_columns": null,
       "grid_auto_flow": null,
       "grid_auto_rows": null,
       "grid_column": null,
       "grid_gap": null,
       "grid_row": null,
       "grid_template_areas": null,
       "grid_template_columns": null,
       "grid_template_rows": null,
       "height": null,
       "justify_content": null,
       "justify_items": null,
       "left": null,
       "margin": null,
       "max_height": null,
       "max_width": null,
       "min_height": null,
       "min_width": null,
       "object_fit": null,
       "object_position": null,
       "order": null,
       "overflow": null,
       "overflow_x": null,
       "overflow_y": null,
       "padding": null,
       "right": null,
       "top": null,
       "visibility": null,
       "width": null
      }
     },
     "b72dfbb76c474acfb9f4b61efe1a3b26": {
      "model_module": "@jupyter-widgets/controls",
      "model_module_version": "1.5.0",
      "model_name": "HBoxModel",
      "state": {
       "_dom_classes": [],
       "_model_module": "@jupyter-widgets/controls",
       "_model_module_version": "1.5.0",
       "_model_name": "HBoxModel",
       "_view_count": null,
       "_view_module": "@jupyter-widgets/controls",
       "_view_module_version": "1.5.0",
       "_view_name": "HBoxView",
       "box_style": "",
       "children": [
        "IPY_MODEL_dbfb15a66cbd4f49b30a48f988d16d2a",
        "IPY_MODEL_6a6192f4e27e4c2a8d8121b258914c0e",
        "IPY_MODEL_23adcc00f613487799710030f5e4b80a"
       ],
       "layout": "IPY_MODEL_d0b6ea52d7df4935a4f5ef3db0cd4873"
      }
     },
     "ba36f558197049ab910617533fbaa988": {
      "model_module": "@jupyter-widgets/base",
      "model_module_version": "1.2.0",
      "model_name": "LayoutModel",
      "state": {
       "_model_module": "@jupyter-widgets/base",
       "_model_module_version": "1.2.0",
       "_model_name": "LayoutModel",
       "_view_count": null,
       "_view_module": "@jupyter-widgets/base",
       "_view_module_version": "1.2.0",
       "_view_name": "LayoutView",
       "align_content": null,
       "align_items": null,
       "align_self": null,
       "border": null,
       "bottom": null,
       "display": null,
       "flex": null,
       "flex_flow": null,
       "grid_area": null,
       "grid_auto_columns": null,
       "grid_auto_flow": null,
       "grid_auto_rows": null,
       "grid_column": null,
       "grid_gap": null,
       "grid_row": null,
       "grid_template_areas": null,
       "grid_template_columns": null,
       "grid_template_rows": null,
       "height": null,
       "justify_content": null,
       "justify_items": null,
       "left": null,
       "margin": null,
       "max_height": null,
       "max_width": null,
       "min_height": null,
       "min_width": null,
       "object_fit": null,
       "object_position": null,
       "order": null,
       "overflow": null,
       "overflow_x": null,
       "overflow_y": null,
       "padding": null,
       "right": null,
       "top": null,
       "visibility": null,
       "width": null
      }
     },
     "c2470123629d407e826a0a7dc446651e": {
      "model_module": "@jupyter-widgets/base",
      "model_module_version": "1.2.0",
      "model_name": "LayoutModel",
      "state": {
       "_model_module": "@jupyter-widgets/base",
       "_model_module_version": "1.2.0",
       "_model_name": "LayoutModel",
       "_view_count": null,
       "_view_module": "@jupyter-widgets/base",
       "_view_module_version": "1.2.0",
       "_view_name": "LayoutView",
       "align_content": null,
       "align_items": null,
       "align_self": null,
       "border": null,
       "bottom": null,
       "display": null,
       "flex": null,
       "flex_flow": null,
       "grid_area": null,
       "grid_auto_columns": null,
       "grid_auto_flow": null,
       "grid_auto_rows": null,
       "grid_column": null,
       "grid_gap": null,
       "grid_row": null,
       "grid_template_areas": null,
       "grid_template_columns": null,
       "grid_template_rows": null,
       "height": null,
       "justify_content": null,
       "justify_items": null,
       "left": null,
       "margin": null,
       "max_height": null,
       "max_width": null,
       "min_height": null,
       "min_width": null,
       "object_fit": null,
       "object_position": null,
       "order": null,
       "overflow": null,
       "overflow_x": null,
       "overflow_y": null,
       "padding": null,
       "right": null,
       "top": null,
       "visibility": null,
       "width": null
      }
     },
     "c5c8e00c86f14c639cef685830c45ae5": {
      "model_module": "@jupyter-widgets/base",
      "model_module_version": "1.2.0",
      "model_name": "LayoutModel",
      "state": {
       "_model_module": "@jupyter-widgets/base",
       "_model_module_version": "1.2.0",
       "_model_name": "LayoutModel",
       "_view_count": null,
       "_view_module": "@jupyter-widgets/base",
       "_view_module_version": "1.2.0",
       "_view_name": "LayoutView",
       "align_content": null,
       "align_items": null,
       "align_self": null,
       "border": null,
       "bottom": null,
       "display": null,
       "flex": null,
       "flex_flow": null,
       "grid_area": null,
       "grid_auto_columns": null,
       "grid_auto_flow": null,
       "grid_auto_rows": null,
       "grid_column": null,
       "grid_gap": null,
       "grid_row": null,
       "grid_template_areas": null,
       "grid_template_columns": null,
       "grid_template_rows": null,
       "height": null,
       "justify_content": null,
       "justify_items": null,
       "left": null,
       "margin": null,
       "max_height": null,
       "max_width": null,
       "min_height": null,
       "min_width": null,
       "object_fit": null,
       "object_position": null,
       "order": null,
       "overflow": null,
       "overflow_x": null,
       "overflow_y": null,
       "padding": null,
       "right": null,
       "top": null,
       "visibility": null,
       "width": null
      }
     },
     "cae72d10511b42f6bfafa2802285944d": {
      "model_module": "@jupyter-widgets/controls",
      "model_module_version": "1.5.0",
      "model_name": "HTMLModel",
      "state": {
       "_dom_classes": [],
       "_model_module": "@jupyter-widgets/controls",
       "_model_module_version": "1.5.0",
       "_model_name": "HTMLModel",
       "_view_count": null,
       "_view_module": "@jupyter-widgets/controls",
       "_view_module_version": "1.5.0",
       "_view_name": "HTMLView",
       "description": "",
       "description_tooltip": null,
       "layout": "IPY_MODEL_0b056c18a65b4c82ad876d8b6f2a043f",
       "placeholder": "​",
       "style": "IPY_MODEL_845d61d6a44149f189d3c167d1c5d3c3",
       "value": " 25000/25000 [00:16&lt;00:00, 1510.17it/s]"
      }
     },
     "cb45313900584bab9bafb74c48579dc1": {
      "model_module": "@jupyter-widgets/controls",
      "model_module_version": "1.5.0",
      "model_name": "DescriptionStyleModel",
      "state": {
       "_model_module": "@jupyter-widgets/controls",
       "_model_module_version": "1.5.0",
       "_model_name": "DescriptionStyleModel",
       "_view_count": null,
       "_view_module": "@jupyter-widgets/base",
       "_view_module_version": "1.2.0",
       "_view_name": "StyleView",
       "description_width": ""
      }
     },
     "cd568e97d6a34650be172310df6f1227": {
      "model_module": "@jupyter-widgets/controls",
      "model_module_version": "1.5.0",
      "model_name": "DescriptionStyleModel",
      "state": {
       "_model_module": "@jupyter-widgets/controls",
       "_model_module_version": "1.5.0",
       "_model_name": "DescriptionStyleModel",
       "_view_count": null,
       "_view_module": "@jupyter-widgets/base",
       "_view_module_version": "1.2.0",
       "_view_name": "StyleView",
       "description_width": ""
      }
     },
     "ce127785309b4f4593f4a22ec9a461b6": {
      "model_module": "@jupyter-widgets/controls",
      "model_module_version": "1.5.0",
      "model_name": "FloatProgressModel",
      "state": {
       "_dom_classes": [],
       "_model_module": "@jupyter-widgets/controls",
       "_model_module_version": "1.5.0",
       "_model_name": "FloatProgressModel",
       "_view_count": null,
       "_view_module": "@jupyter-widgets/controls",
       "_view_module_version": "1.5.0",
       "_view_name": "ProgressView",
       "bar_style": "success",
       "description": "",
       "description_tooltip": null,
       "layout": "IPY_MODEL_4949f6ccffd9431382afef8145c48bfc",
       "max": 3.0,
       "min": 0.0,
       "orientation": "horizontal",
       "style": "IPY_MODEL_60c78523899245378a821eaace8802fa",
       "value": 3.0
      }
     },
     "d05baf587f5041f3ab75576f93a5583b": {
      "model_module": "@jupyter-widgets/base",
      "model_module_version": "1.2.0",
      "model_name": "LayoutModel",
      "state": {
       "_model_module": "@jupyter-widgets/base",
       "_model_module_version": "1.2.0",
       "_model_name": "LayoutModel",
       "_view_count": null,
       "_view_module": "@jupyter-widgets/base",
       "_view_module_version": "1.2.0",
       "_view_name": "LayoutView",
       "align_content": null,
       "align_items": null,
       "align_self": null,
       "border": null,
       "bottom": null,
       "display": null,
       "flex": null,
       "flex_flow": null,
       "grid_area": null,
       "grid_auto_columns": null,
       "grid_auto_flow": null,
       "grid_auto_rows": null,
       "grid_column": null,
       "grid_gap": null,
       "grid_row": null,
       "grid_template_areas": null,
       "grid_template_columns": null,
       "grid_template_rows": null,
       "height": null,
       "justify_content": null,
       "justify_items": null,
       "left": null,
       "margin": null,
       "max_height": null,
       "max_width": null,
       "min_height": null,
       "min_width": null,
       "object_fit": null,
       "object_position": null,
       "order": null,
       "overflow": null,
       "overflow_x": null,
       "overflow_y": null,
       "padding": null,
       "right": null,
       "top": null,
       "visibility": null,
       "width": null
      }
     },
     "d0b6ea52d7df4935a4f5ef3db0cd4873": {
      "model_module": "@jupyter-widgets/base",
      "model_module_version": "1.2.0",
      "model_name": "LayoutModel",
      "state": {
       "_model_module": "@jupyter-widgets/base",
       "_model_module_version": "1.2.0",
       "_model_name": "LayoutModel",
       "_view_count": null,
       "_view_module": "@jupyter-widgets/base",
       "_view_module_version": "1.2.0",
       "_view_name": "LayoutView",
       "align_content": null,
       "align_items": null,
       "align_self": null,
       "border": null,
       "bottom": null,
       "display": null,
       "flex": null,
       "flex_flow": null,
       "grid_area": null,
       "grid_auto_columns": null,
       "grid_auto_flow": null,
       "grid_auto_rows": null,
       "grid_column": null,
       "grid_gap": null,
       "grid_row": null,
       "grid_template_areas": null,
       "grid_template_columns": null,
       "grid_template_rows": null,
       "height": null,
       "justify_content": null,
       "justify_items": null,
       "left": null,
       "margin": null,
       "max_height": null,
       "max_width": null,
       "min_height": null,
       "min_width": null,
       "object_fit": null,
       "object_position": null,
       "order": null,
       "overflow": null,
       "overflow_x": null,
       "overflow_y": null,
       "padding": null,
       "right": null,
       "top": null,
       "visibility": "hidden",
       "width": null
      }
     },
     "d133395851d5464085ca29884c73788a": {
      "model_module": "@jupyter-widgets/controls",
      "model_module_version": "1.5.0",
      "model_name": "DescriptionStyleModel",
      "state": {
       "_model_module": "@jupyter-widgets/controls",
       "_model_module_version": "1.5.0",
       "_model_name": "DescriptionStyleModel",
       "_view_count": null,
       "_view_module": "@jupyter-widgets/base",
       "_view_module_version": "1.2.0",
       "_view_name": "StyleView",
       "description_width": ""
      }
     },
     "d452b178c0604e558f5027bf13315d7c": {
      "model_module": "@jupyter-widgets/controls",
      "model_module_version": "1.5.0",
      "model_name": "DescriptionStyleModel",
      "state": {
       "_model_module": "@jupyter-widgets/controls",
       "_model_module_version": "1.5.0",
       "_model_name": "DescriptionStyleModel",
       "_view_count": null,
       "_view_module": "@jupyter-widgets/base",
       "_view_module_version": "1.2.0",
       "_view_name": "StyleView",
       "description_width": ""
      }
     },
     "d4cfc5cf4efe42559efff16bdb2410c8": {
      "model_module": "@jupyter-widgets/base",
      "model_module_version": "1.2.0",
      "model_name": "LayoutModel",
      "state": {
       "_model_module": "@jupyter-widgets/base",
       "_model_module_version": "1.2.0",
       "_model_name": "LayoutModel",
       "_view_count": null,
       "_view_module": "@jupyter-widgets/base",
       "_view_module_version": "1.2.0",
       "_view_name": "LayoutView",
       "align_content": null,
       "align_items": null,
       "align_self": null,
       "border": null,
       "bottom": null,
       "display": null,
       "flex": null,
       "flex_flow": null,
       "grid_area": null,
       "grid_auto_columns": null,
       "grid_auto_flow": null,
       "grid_auto_rows": null,
       "grid_column": null,
       "grid_gap": null,
       "grid_row": null,
       "grid_template_areas": null,
       "grid_template_columns": null,
       "grid_template_rows": null,
       "height": null,
       "justify_content": null,
       "justify_items": null,
       "left": null,
       "margin": null,
       "max_height": null,
       "max_width": null,
       "min_height": null,
       "min_width": null,
       "object_fit": null,
       "object_position": null,
       "order": null,
       "overflow": null,
       "overflow_x": null,
       "overflow_y": null,
       "padding": null,
       "right": null,
       "top": null,
       "visibility": null,
       "width": null
      }
     },
     "d8f407c6507f42458ca803bf68b7d393": {
      "model_module": "@jupyter-widgets/base",
      "model_module_version": "1.2.0",
      "model_name": "LayoutModel",
      "state": {
       "_model_module": "@jupyter-widgets/base",
       "_model_module_version": "1.2.0",
       "_model_name": "LayoutModel",
       "_view_count": null,
       "_view_module": "@jupyter-widgets/base",
       "_view_module_version": "1.2.0",
       "_view_name": "LayoutView",
       "align_content": null,
       "align_items": null,
       "align_self": null,
       "border": null,
       "bottom": null,
       "display": null,
       "flex": null,
       "flex_flow": null,
       "grid_area": null,
       "grid_auto_columns": null,
       "grid_auto_flow": null,
       "grid_auto_rows": null,
       "grid_column": null,
       "grid_gap": null,
       "grid_row": null,
       "grid_template_areas": null,
       "grid_template_columns": null,
       "grid_template_rows": null,
       "height": null,
       "justify_content": null,
       "justify_items": null,
       "left": null,
       "margin": null,
       "max_height": null,
       "max_width": null,
       "min_height": null,
       "min_width": null,
       "object_fit": null,
       "object_position": null,
       "order": null,
       "overflow": null,
       "overflow_x": null,
       "overflow_y": null,
       "padding": null,
       "right": null,
       "top": null,
       "visibility": null,
       "width": null
      }
     },
     "db9f2823d40d4591b931cdd0f952e920": {
      "model_module": "@jupyter-widgets/controls",
      "model_module_version": "1.5.0",
      "model_name": "HTMLModel",
      "state": {
       "_dom_classes": [],
       "_model_module": "@jupyter-widgets/controls",
       "_model_module_version": "1.5.0",
       "_model_name": "HTMLModel",
       "_view_count": null,
       "_view_module": "@jupyter-widgets/controls",
       "_view_module_version": "1.5.0",
       "_view_name": "HTMLView",
       "description": "",
       "description_tooltip": null,
       "layout": "IPY_MODEL_4c1cfb5740a544a7acf589dbf73aa310",
       "placeholder": "​",
       "style": "IPY_MODEL_3f039f32945c47d79d5f04716b8f7706",
       "value": " 24357/25000 [00:05&lt;00:00, 7583.79 examples/s]"
      }
     },
     "dbcdcfde8cbc4fc68979ab20be2bf61a": {
      "model_module": "@jupyter-widgets/controls",
      "model_module_version": "1.5.0",
      "model_name": "HBoxModel",
      "state": {
       "_dom_classes": [],
       "_model_module": "@jupyter-widgets/controls",
       "_model_module_version": "1.5.0",
       "_model_name": "HBoxModel",
       "_view_count": null,
       "_view_module": "@jupyter-widgets/controls",
       "_view_module_version": "1.5.0",
       "_view_name": "HBoxView",
       "box_style": "",
       "children": [
        "IPY_MODEL_1cb908d767e94c9f9e2ac71ef7074c51",
        "IPY_MODEL_39e0ba2e9e6647e8a7a4bcb7d0dbfa65",
        "IPY_MODEL_cae72d10511b42f6bfafa2802285944d"
       ],
       "layout": "IPY_MODEL_940d842f56494fe1b6f89ca32d108bdd"
      }
     },
     "dbfb15a66cbd4f49b30a48f988d16d2a": {
      "model_module": "@jupyter-widgets/controls",
      "model_module_version": "1.5.0",
      "model_name": "HTMLModel",
      "state": {
       "_dom_classes": [],
       "_model_module": "@jupyter-widgets/controls",
       "_model_module_version": "1.5.0",
       "_model_name": "HTMLModel",
       "_view_count": null,
       "_view_module": "@jupyter-widgets/controls",
       "_view_module_version": "1.5.0",
       "_view_name": "HTMLView",
       "description": "",
       "description_tooltip": null,
       "layout": "IPY_MODEL_d8f407c6507f42458ca803bf68b7d393",
       "placeholder": "​",
       "style": "IPY_MODEL_cb45313900584bab9bafb74c48579dc1",
       "value": "Generating unsupervised split: 100%"
      }
     },
     "dd1869c1657f4aacbae3678db6a727f0": {
      "model_module": "@jupyter-widgets/base",
      "model_module_version": "1.2.0",
      "model_name": "LayoutModel",
      "state": {
       "_model_module": "@jupyter-widgets/base",
       "_model_module_version": "1.2.0",
       "_model_name": "LayoutModel",
       "_view_count": null,
       "_view_module": "@jupyter-widgets/base",
       "_view_module_version": "1.2.0",
       "_view_name": "LayoutView",
       "align_content": null,
       "align_items": null,
       "align_self": null,
       "border": null,
       "bottom": null,
       "display": null,
       "flex": null,
       "flex_flow": null,
       "grid_area": null,
       "grid_auto_columns": null,
       "grid_auto_flow": null,
       "grid_auto_rows": null,
       "grid_column": null,
       "grid_gap": null,
       "grid_row": null,
       "grid_template_areas": null,
       "grid_template_columns": null,
       "grid_template_rows": null,
       "height": null,
       "justify_content": null,
       "justify_items": null,
       "left": null,
       "margin": null,
       "max_height": null,
       "max_width": null,
       "min_height": null,
       "min_width": null,
       "object_fit": null,
       "object_position": null,
       "order": null,
       "overflow": null,
       "overflow_x": null,
       "overflow_y": null,
       "padding": null,
       "right": null,
       "top": null,
       "visibility": null,
       "width": null
      }
     },
     "e007b5cea52c4919b4a6dea994b184ed": {
      "model_module": "@jupyter-widgets/controls",
      "model_module_version": "1.5.0",
      "model_name": "HBoxModel",
      "state": {
       "_dom_classes": [],
       "_model_module": "@jupyter-widgets/controls",
       "_model_module_version": "1.5.0",
       "_model_name": "HBoxModel",
       "_view_count": null,
       "_view_module": "@jupyter-widgets/controls",
       "_view_module_version": "1.5.0",
       "_view_name": "HBoxView",
       "box_style": "",
       "children": [
        "IPY_MODEL_4cbb4e3ba46e4b72ad1e80cb75064534",
        "IPY_MODEL_32ff3e789c5147ccb5d23df7f0571f0c",
        "IPY_MODEL_1ea403ed209845b1892edcc8d5fe9ef3"
       ],
       "layout": "IPY_MODEL_a2f548e33544497095133fea58484f4e"
      }
     },
     "e06d863a7bf04942a2d32459f535cd84": {
      "model_module": "@jupyter-widgets/controls",
      "model_module_version": "1.5.0",
      "model_name": "DescriptionStyleModel",
      "state": {
       "_model_module": "@jupyter-widgets/controls",
       "_model_module_version": "1.5.0",
       "_model_name": "DescriptionStyleModel",
       "_view_count": null,
       "_view_module": "@jupyter-widgets/base",
       "_view_module_version": "1.2.0",
       "_view_name": "StyleView",
       "description_width": ""
      }
     },
     "e35441c224b14330ab3cd11ac7deb297": {
      "model_module": "@jupyter-widgets/base",
      "model_module_version": "1.2.0",
      "model_name": "LayoutModel",
      "state": {
       "_model_module": "@jupyter-widgets/base",
       "_model_module_version": "1.2.0",
       "_model_name": "LayoutModel",
       "_view_count": null,
       "_view_module": "@jupyter-widgets/base",
       "_view_module_version": "1.2.0",
       "_view_name": "LayoutView",
       "align_content": null,
       "align_items": null,
       "align_self": null,
       "border": null,
       "bottom": null,
       "display": null,
       "flex": null,
       "flex_flow": null,
       "grid_area": null,
       "grid_auto_columns": null,
       "grid_auto_flow": null,
       "grid_auto_rows": null,
       "grid_column": null,
       "grid_gap": null,
       "grid_row": null,
       "grid_template_areas": null,
       "grid_template_columns": null,
       "grid_template_rows": null,
       "height": null,
       "justify_content": null,
       "justify_items": null,
       "left": null,
       "margin": null,
       "max_height": null,
       "max_width": null,
       "min_height": null,
       "min_width": null,
       "object_fit": null,
       "object_position": null,
       "order": null,
       "overflow": null,
       "overflow_x": null,
       "overflow_y": null,
       "padding": null,
       "right": null,
       "top": null,
       "visibility": null,
       "width": null
      }
     },
     "e4f08d818daa44f097079ac6beb68f61": {
      "model_module": "@jupyter-widgets/controls",
      "model_module_version": "1.5.0",
      "model_name": "HTMLModel",
      "state": {
       "_dom_classes": [],
       "_model_module": "@jupyter-widgets/controls",
       "_model_module_version": "1.5.0",
       "_model_name": "HTMLModel",
       "_view_count": null,
       "_view_module": "@jupyter-widgets/controls",
       "_view_module_version": "1.5.0",
       "_view_name": "HTMLView",
       "description": "",
       "description_tooltip": null,
       "layout": "IPY_MODEL_380a70eaf69e4738867aa1cf53a76f39",
       "placeholder": "​",
       "style": "IPY_MODEL_e06d863a7bf04942a2d32459f535cd84",
       "value": " 24401/25000 [00:03&lt;00:00, 7458.92 examples/s]"
      }
     },
     "e775a64585144437b562cba22f000cb2": {
      "model_module": "@jupyter-widgets/base",
      "model_module_version": "1.2.0",
      "model_name": "LayoutModel",
      "state": {
       "_model_module": "@jupyter-widgets/base",
       "_model_module_version": "1.2.0",
       "_model_name": "LayoutModel",
       "_view_count": null,
       "_view_module": "@jupyter-widgets/base",
       "_view_module_version": "1.2.0",
       "_view_name": "LayoutView",
       "align_content": null,
       "align_items": null,
       "align_self": null,
       "border": null,
       "bottom": null,
       "display": null,
       "flex": null,
       "flex_flow": null,
       "grid_area": null,
       "grid_auto_columns": null,
       "grid_auto_flow": null,
       "grid_auto_rows": null,
       "grid_column": null,
       "grid_gap": null,
       "grid_row": null,
       "grid_template_areas": null,
       "grid_template_columns": null,
       "grid_template_rows": null,
       "height": null,
       "justify_content": null,
       "justify_items": null,
       "left": null,
       "margin": null,
       "max_height": null,
       "max_width": null,
       "min_height": null,
       "min_width": null,
       "object_fit": null,
       "object_position": null,
       "order": null,
       "overflow": null,
       "overflow_x": null,
       "overflow_y": null,
       "padding": null,
       "right": null,
       "top": null,
       "visibility": null,
       "width": null
      }
     },
     "e8631284a6104c0f895d43fb07843728": {
      "model_module": "@jupyter-widgets/controls",
      "model_module_version": "1.5.0",
      "model_name": "ProgressStyleModel",
      "state": {
       "_model_module": "@jupyter-widgets/controls",
       "_model_module_version": "1.5.0",
       "_model_name": "ProgressStyleModel",
       "_view_count": null,
       "_view_module": "@jupyter-widgets/base",
       "_view_module_version": "1.2.0",
       "_view_name": "StyleView",
       "bar_color": null,
       "description_width": ""
      }
     },
     "e926e5c0c3c04ce7b760c3333b621521": {
      "model_module": "@jupyter-widgets/controls",
      "model_module_version": "1.5.0",
      "model_name": "ProgressStyleModel",
      "state": {
       "_model_module": "@jupyter-widgets/controls",
       "_model_module_version": "1.5.0",
       "_model_name": "ProgressStyleModel",
       "_view_count": null,
       "_view_module": "@jupyter-widgets/base",
       "_view_module_version": "1.2.0",
       "_view_name": "StyleView",
       "bar_color": null,
       "description_width": ""
      }
     },
     "f7d2ac4266af4072bb3f1dca873498bf": {
      "model_module": "@jupyter-widgets/controls",
      "model_module_version": "1.5.0",
      "model_name": "HTMLModel",
      "state": {
       "_dom_classes": [],
       "_model_module": "@jupyter-widgets/controls",
       "_model_module_version": "1.5.0",
       "_model_name": "HTMLModel",
       "_view_count": null,
       "_view_module": "@jupyter-widgets/controls",
       "_view_module_version": "1.5.0",
       "_view_name": "HTMLView",
       "description": "",
       "description_tooltip": null,
       "layout": "IPY_MODEL_aa41ec7396364ffa8ef85f022bd092dc",
       "placeholder": "​",
       "style": "IPY_MODEL_1730a7f9a5404cd8ab26781d28b3c764",
       "value": " 2.17k/? [00:00&lt;00:00, 149kB/s]"
      }
     },
     "f86c2ac31eef4ff08c2404d7557a72dd": {
      "model_module": "@jupyter-widgets/base",
      "model_module_version": "1.2.0",
      "model_name": "LayoutModel",
      "state": {
       "_model_module": "@jupyter-widgets/base",
       "_model_module_version": "1.2.0",
       "_model_name": "LayoutModel",
       "_view_count": null,
       "_view_module": "@jupyter-widgets/base",
       "_view_module_version": "1.2.0",
       "_view_name": "LayoutView",
       "align_content": null,
       "align_items": null,
       "align_self": null,
       "border": null,
       "bottom": null,
       "display": null,
       "flex": null,
       "flex_flow": null,
       "grid_area": null,
       "grid_auto_columns": null,
       "grid_auto_flow": null,
       "grid_auto_rows": null,
       "grid_column": null,
       "grid_gap": null,
       "grid_row": null,
       "grid_template_areas": null,
       "grid_template_columns": null,
       "grid_template_rows": null,
       "height": null,
       "justify_content": null,
       "justify_items": null,
       "left": null,
       "margin": null,
       "max_height": null,
       "max_width": null,
       "min_height": null,
       "min_width": null,
       "object_fit": null,
       "object_position": null,
       "order": null,
       "overflow": null,
       "overflow_x": null,
       "overflow_y": null,
       "padding": null,
       "right": null,
       "top": null,
       "visibility": null,
       "width": null
      }
     },
     "f886ad9beda34784bbdd1fc8311622b1": {
      "model_module": "@jupyter-widgets/controls",
      "model_module_version": "1.5.0",
      "model_name": "DescriptionStyleModel",
      "state": {
       "_model_module": "@jupyter-widgets/controls",
       "_model_module_version": "1.5.0",
       "_model_name": "DescriptionStyleModel",
       "_view_count": null,
       "_view_module": "@jupyter-widgets/base",
       "_view_module_version": "1.2.0",
       "_view_name": "StyleView",
       "description_width": ""
      }
     },
     "fe95f853bb364f9a8dd6dd321515d39f": {
      "model_module": "@jupyter-widgets/base",
      "model_module_version": "1.2.0",
      "model_name": "LayoutModel",
      "state": {
       "_model_module": "@jupyter-widgets/base",
       "_model_module_version": "1.2.0",
       "_model_name": "LayoutModel",
       "_view_count": null,
       "_view_module": "@jupyter-widgets/base",
       "_view_module_version": "1.2.0",
       "_view_name": "LayoutView",
       "align_content": null,
       "align_items": null,
       "align_self": null,
       "border": null,
       "bottom": null,
       "display": null,
       "flex": null,
       "flex_flow": null,
       "grid_area": null,
       "grid_auto_columns": null,
       "grid_auto_flow": null,
       "grid_auto_rows": null,
       "grid_column": null,
       "grid_gap": null,
       "grid_row": null,
       "grid_template_areas": null,
       "grid_template_columns": null,
       "grid_template_rows": null,
       "height": null,
       "justify_content": null,
       "justify_items": null,
       "left": null,
       "margin": null,
       "max_height": null,
       "max_width": null,
       "min_height": null,
       "min_width": null,
       "object_fit": null,
       "object_position": null,
       "order": null,
       "overflow": null,
       "overflow_x": null,
       "overflow_y": null,
       "padding": null,
       "right": null,
       "top": null,
       "visibility": null,
       "width": null
      }
     }
    },
    "version_major": 2,
    "version_minor": 0
   }
  }
 },
 "nbformat": 4,
 "nbformat_minor": 5
}
